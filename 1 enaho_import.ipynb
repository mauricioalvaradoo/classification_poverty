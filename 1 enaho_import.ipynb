{
 "cells": [
  {
   "cell_type": "markdown",
   "id": "9896d222-1870-4c87-aeea-1a5be2a5ea19",
   "metadata": {},
   "source": [
    "## Importando módulos de la Enaho-INEI\n",
    "Se va a importar la información de la encuesta Encuesta Nacional de los Hogares (Enaho) realizado por Inei que se encuentra en sus microdatos http://iinei.inei.gob.pe/microdatos/. Este código es una adaptación y extensión de uno creado y presentado en una clase por Angel Guillen y Erick Oré"
   ]
  },
  {
   "cell_type": "code",
   "execution_count": 1,
   "id": "9d4b0526-23ca-400a-bb7a-443d9994f4d0",
   "metadata": {},
   "outputs": [],
   "source": [
    "import pandas as pd\n",
    "import requests\n",
    "import time\n",
    "from zipfile import ZipFile, BadZipfile\n",
    "import os\n",
    "from os.path import join\n",
    "from os import chdir, listdir, rmdir\n",
    "from shutil import move"
   ]
  },
  {
   "cell_type": "markdown",
   "id": "20b2045f-c888-4b9d-9f62-29de2d907c05",
   "metadata": {},
   "source": [
    "Se define todas las Enahos anuales"
   ]
  },
  {
   "cell_type": "code",
   "execution_count": 2,
   "id": "a28fa5ad-13f6-433a-99be-b3f86802c5be",
   "metadata": {},
   "outputs": [],
   "source": [
    "Enaho_anual = {\n",
    "    2004: \"280\", #0\n",
    "    2005: \"281\", #1\n",
    "    2006: \"282\", #2\n",
    "    2007: \"283\", #3 \n",
    "    2008: \"284\", #4\n",
    "    2009: \"285\", #5\n",
    "    2010: \"279\", #6\n",
    "    2011: \"291\", #7\n",
    "    2012: \"324\", #8\n",
    "    2013: \"404\", #9\n",
    "    2014: \"440\", #10\n",
    "    2015: \"498\", #11\n",
    "    2016: \"546\", #12\n",
    "    2017: \"603\", #13\n",
    "    2018: \"634\", #14\n",
    "    2019: \"687\", #15\n",
    "    2020: \"737\", #16\n",
    "    2021: \"759\" #17\n",
    "}"
   ]
  },
  {
   "cell_type": "markdown",
   "id": "d24013fa-27c0-4fb5-a47b-e424626cb8e1",
   "metadata": {},
   "source": [
    "Se busca importar algunos módulos en particular. Los más usuales son los siguientes:"
   ]
  },
  {
   "cell_type": "code",
   "execution_count": 3,
   "id": "9c3de5ac-e3d3-43a4-b68e-edfb1e5f9b12",
   "metadata": {},
   "outputs": [],
   "source": [
    "Modulos = [\"02\", \"03\", \"05\"]"
   ]
  },
  {
   "cell_type": "markdown",
   "id": "5d8ae7be",
   "metadata": {},
   "source": [
    "Donde el módulo 02 representa las característica de los miembros del hogar, el módulo 03 la educación y el 05 los ingresos."
   ]
  },
  {
   "cell_type": "markdown",
   "id": "6abdc1fa-69c5-4d10-944d-cf1be125b810",
   "metadata": {
    "tags": []
   },
   "source": [
    "### Importando las Enaho\n",
    "\n",
    "Primero, debido a que no siempre es necesario usar todas las Enahos, se puede seleccionar un set. Esto también ayudará a que la importación de los datos sea más rápida. Se define como set de las `Enaho anuales` al periodo `2017-2021`"
   ]
  },
  {
   "cell_type": "code",
   "execution_count": 4,
   "id": "c0aae273-4bb6-4279-b1f8-71bcdf7db0af",
   "metadata": {},
   "outputs": [],
   "source": [
    "FechaIni = 2019\n",
    "FechaFin = 2019\n",
    "\n",
    "Rango = list(range(FechaIni, FechaFin+1))\n",
    "Enaho_anual = {key: Enaho_anual[key] for key in Rango}"
   ]
  },
  {
   "cell_type": "markdown",
   "id": "f1bb7b89-2b41-4863-83ec-ebc70d3904ad",
   "metadata": {},
   "source": [
    "Por corroborar, las siguientes deberían dar los resultados deseados"
   ]
  },
  {
   "cell_type": "code",
   "execution_count": 5,
   "id": "38e3cf77-fd43-4c64-82c2-5cec29ab44fd",
   "metadata": {},
   "outputs": [
    {
     "data": {
      "text/plain": [
       "{2019: '687'}"
      ]
     },
     "execution_count": 5,
     "metadata": {},
     "output_type": "execute_result"
    }
   ],
   "source": [
    "Enaho_anual"
   ]
  },
  {
   "cell_type": "markdown",
   "id": "4d2b6ec9-7afa-4fe1-9e76-97148bfdbb15",
   "metadata": {},
   "source": [
    "Se separá los `keys` y los `values`"
   ]
  },
  {
   "cell_type": "code",
   "execution_count": 6,
   "id": "257f8251-778c-4395-9709-b2ea72d0bc29",
   "metadata": {},
   "outputs": [],
   "source": [
    "Periodos = list(Enaho_anual.keys())\n",
    "Encuestas = list(Enaho_anual.values())"
   ]
  },
  {
   "cell_type": "markdown",
   "id": "4ada1a5c-560a-4de5-8344-91d380278c44",
   "metadata": {},
   "source": [
    "La importación y presentación de los archivos `.dta` se puede realizar de dos maneras diferentes: (1) tener todos los módulos en cada carpeta correspondiente a su año, (2) tener todos los módulos en una única carpeta.\n",
    "\n",
    "El código mostrado a continuación corresponde al punto (1), donde el resultado debería ser muchas carpetas, donde cada una representa un año y contiene los módulos seleccionados"
   ]
  },
  {
   "cell_type": "code",
   "execution_count": null,
   "id": "19284ad3-7bb9-441e-9d0a-d222389a3fee",
   "metadata": {
    "tags": []
   },
   "outputs": [],
   "source": [
    "periodo = Periodos[0]\n",
    "\n",
    "\n",
    "for i, n in enumerate(Encuestas):\n",
    "    \n",
    "    \n",
    "    # Creando la carpeta por cada periodo\n",
    "    try:\n",
    "        os.makedirs(f\"Bases de datos//{str(periodo)}\")\n",
    "    except:\n",
    "        pass\n",
    "    \n",
    "    \n",
    "    # Iterando cada módulo para cada periodo\n",
    "    for m in Modulos:\n",
    "        \n",
    "        # Haciendo el request con la página de INEI\n",
    "        try:\n",
    "            r = requests.get(f\"http://iinei.inei.gob.pe/iinei/srienaho/descarga/STATA/{n}-Modulo{m}.zip\", allow_redirects=True)\n",
    "        except:\n",
    "            time.sleep(3)\n",
    "            r = requests.get(f\"http://iinei.inei.gob.pe/iinei/srienaho/descarga/STATA/{n}-Modulo{m}.zip\", allow_redirects=True)\n",
    "        \n",
    "        # Abriendo el Zip y renombrándolo\n",
    "        open(f\"Bases de datos//{str(periodo)}//Modulo{n}{m}.zip\", 'wb').write(r.content)\n",
    "\n",
    "        # Extrayendo todos los archivos del Zip\n",
    "        with ZipFile(f\"Bases de datos//{str(periodo)}//Modulo{n}{m}.zip\", 'r') as file:\n",
    "            file.extractall(path = f\"Bases de datos//{str(periodo)}\")\n",
    "\n",
    "        try:\n",
    "            # Moviendo los archivos a la ruta\n",
    "            ruta = join(f\"Bases de datos//{str(periodo)}\", f\"{n}-Modulo{m}\")\n",
    "            \n",
    "            for filename in listdir(ruta):\n",
    "                move(join(ruta, filename), join(f\"Bases de datos//{str(periodo)}\", filename))\n",
    "                        \n",
    "            # Eliminando archivos no usados\n",
    "            rmdir(ruta)\n",
    "            \n",
    "        except:\n",
    "            pass\n",
    "        \n",
    "        \n",
    "        # Eliminando todos los archivos que no son de interés\n",
    "        for file in listdir(f\"Bases de datos//{str(periodo)}\"):\n",
    "            if not file.startswith(\"enaho01\"):\n",
    "                os.remove(f\"Bases de datos//{str(periodo)}//{file}\")\n",
    "            if file.endswith(\"a.dta\"):\n",
    "                os.remove(f\"Bases de datos//{str(periodo)}//{file}\")\n",
    "                            \n",
    "    periodo += 1"
   ]
  },
  {
   "cell_type": "markdown",
   "id": "89e834c6-4c24-437a-8bc5-8e7cd5df0552",
   "metadata": {},
   "source": [
    "El siguiente código es el punto (2) donde todos los módulos de cada año estarán en una única carpeta"
   ]
  },
  {
   "cell_type": "code",
   "execution_count": 7,
   "id": "c0c9a74c-583e-4b42-a8d0-f838b617f388",
   "metadata": {
    "tags": []
   },
   "outputs": [],
   "source": [
    "for i, n in enumerate(Encuestas):\n",
    "    \n",
    "    \n",
    "    # Creando la carpeta por cada periodo\n",
    "    try:\n",
    "        os.makedirs(\"Bases de datos\")\n",
    "    except:\n",
    "        pass\n",
    "    \n",
    "    \n",
    "    # Iterando cada módulo para cada periodo\n",
    "    for m in Modulos:\n",
    "        \n",
    "        # Haciendo el request con la página de INEI\n",
    "        try:\n",
    "            r = requests.get(f\"http://iinei.inei.gob.pe/iinei/srienaho/descarga/STATA/{n}-Modulo{m}.zip\", allow_redirects=True)\n",
    "        except:\n",
    "            time.sleep(3)\n",
    "            r = requests.get(f\"http://iinei.inei.gob.pe/iinei/srienaho/descarga/STATA/{n}-Modulo{m}.zip\", allow_redirects=True)\n",
    "        \n",
    "        # Abriendo el Zip y renombrándolo\n",
    "        open(f\"Bases de datos//Modulo{n}{m}.zip\", 'wb').write(r.content)\n",
    "\n",
    "        # Extrayendo todos los archivos del Zip\n",
    "        with ZipFile(f\"Bases de datos//Modulo{n}{m}.zip\", 'r') as file:\n",
    "            file.extractall(path = \"Bases de datos\")\n",
    "\n",
    "        try:\n",
    "            # Moviendo los archivos a la ruta\n",
    "            ruta = join(\"Bases de datos\", f\"{n}-Modulo{m}\")\n",
    "            \n",
    "            for filename in listdir(ruta):\n",
    "                move(join(ruta, filename), join(\"Bases de datos\", filename))\n",
    "                        \n",
    "            # Eliminando archivos no usados\n",
    "            rmdir(ruta)\n",
    "            \n",
    "        except:\n",
    "            pass\n",
    "        \n",
    "        \n",
    "        # Eliminando todos los archivos que no son de interés\n",
    "        for file in listdir(\"Bases de datos\"):\n",
    "            if not file.startswith(\"enaho01\"):\n",
    "                os.remove(f\"Bases de datos//{file}\")\n",
    "            if file.endswith(\"a.dta\"):\n",
    "                os.remove(f\"Bases de datos//{file}\")"
   ]
  }
 ],
 "metadata": {
  "kernelspec": {
   "display_name": "Python 3 (ipykernel)",
   "language": "python",
   "name": "python3"
  },
  "language_info": {
   "codemirror_mode": {
    "name": "ipython",
    "version": 3
   },
   "file_extension": ".py",
   "mimetype": "text/x-python",
   "name": "python",
   "nbconvert_exporter": "python",
   "pygments_lexer": "ipython3",
   "version": "3.9.7"
  },
  "vscode": {
   "interpreter": {
    "hash": "a077222d77dfe082b8f1dd562ad70e458ac2ab76993a0b248ab0476e32e9e8dd"
   }
  }
 },
 "nbformat": 4,
 "nbformat_minor": 5
}
