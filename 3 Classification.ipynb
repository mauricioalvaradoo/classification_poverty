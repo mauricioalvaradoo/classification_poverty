{
 "cells": [
  {
   "cell_type": "markdown",
   "id": "84e64044-3e89-4a83-bc31-71165728e307",
   "metadata": {},
   "source": [
    "## Clasificacion de las personas en situacion de pobreza\n",
    "\n",
    "https://public.tableau.com/app/profile/andy.kriebel/viz/VisualVocabulary/VisualVocabulary"
   ]
  },
  {
   "cell_type": "code",
   "execution_count": 1,
   "id": "d46ad7d1-4416-4335-a4ce-7fcf52e71f46",
   "metadata": {},
   "outputs": [],
   "source": [
    "import pandas as pd\n",
    "import numpy as np\n",
    "import matplotlib.pyplot as plt\n",
    "import seaborn as sns\n",
    "\n",
    "from sklearn.preprocessing import StandardScaler\n",
    "from sklearn.model_selection import train_test_split #, cross_val_score, cross_val_predict\n",
    "from sklearn.metrics import r2_score, accuracy_score, confusion_matrix, jaccard_score, log_loss\n",
    "\n",
    "import statsmodels.api as sm\n",
    "from sklearn.linear_model import LinearRegression, LogisticRegression\n",
    "from sklearn.neighbors import KNeighborsClassifier\n",
    "from sklearn.tree import DecisionTreeClassifier\n",
    "# from sklearn.svm import SVC\n",
    "# random forest\n",
    "\n",
    "import warnings\n",
    "warnings.simplefilter(\"ignore\")"
   ]
  },
  {
   "cell_type": "code",
   "execution_count": 4,
   "id": "252a0ab2-0c92-4ae3-91e1-6dd9fa7a403b",
   "metadata": {},
   "outputs": [
    {
     "data": {
      "text/html": [
       "<div>\n",
       "<style scoped>\n",
       "    .dataframe tbody tr th:only-of-type {\n",
       "        vertical-align: middle;\n",
       "    }\n",
       "\n",
       "    .dataframe tbody tr th {\n",
       "        vertical-align: top;\n",
       "    }\n",
       "\n",
       "    .dataframe thead th {\n",
       "        text-align: right;\n",
       "    }\n",
       "</style>\n",
       "<table border=\"1\" class=\"dataframe\">\n",
       "  <thead>\n",
       "    <tr style=\"text-align: right;\">\n",
       "      <th></th>\n",
       "      <th>edad</th>\n",
       "      <th>hombre</th>\n",
       "      <th>est_sup</th>\n",
       "      <th>colegio_priv</th>\n",
       "      <th>gran_empresa</th>\n",
       "      <th>segundo_trab</th>\n",
       "      <th>ingbrut</th>\n",
       "      <th>urbano</th>\n",
       "      <th>no_pobre</th>\n",
       "    </tr>\n",
       "  </thead>\n",
       "  <tbody>\n",
       "    <tr>\n",
       "      <th>1</th>\n",
       "      <td>28.0</td>\n",
       "      <td>0.0</td>\n",
       "      <td>1.0</td>\n",
       "      <td>0.0</td>\n",
       "      <td>0.0</td>\n",
       "      <td>1.0</td>\n",
       "      <td>1454.500000</td>\n",
       "      <td>1.0</td>\n",
       "      <td>1.0</td>\n",
       "    </tr>\n",
       "    <tr>\n",
       "      <th>2</th>\n",
       "      <td>48.0</td>\n",
       "      <td>0.0</td>\n",
       "      <td>0.0</td>\n",
       "      <td>0.0</td>\n",
       "      <td>0.0</td>\n",
       "      <td>1.0</td>\n",
       "      <td>2037.000000</td>\n",
       "      <td>1.0</td>\n",
       "      <td>1.0</td>\n",
       "    </tr>\n",
       "    <tr>\n",
       "      <th>3</th>\n",
       "      <td>25.0</td>\n",
       "      <td>0.0</td>\n",
       "      <td>0.0</td>\n",
       "      <td>0.0</td>\n",
       "      <td>0.0</td>\n",
       "      <td>0.0</td>\n",
       "      <td>2037.000000</td>\n",
       "      <td>1.0</td>\n",
       "      <td>1.0</td>\n",
       "    </tr>\n",
       "    <tr>\n",
       "      <th>4</th>\n",
       "      <td>16.0</td>\n",
       "      <td>0.0</td>\n",
       "      <td>0.0</td>\n",
       "      <td>0.0</td>\n",
       "      <td>0.0</td>\n",
       "      <td>0.0</td>\n",
       "      <td>2037.000000</td>\n",
       "      <td>1.0</td>\n",
       "      <td>1.0</td>\n",
       "    </tr>\n",
       "    <tr>\n",
       "      <th>6</th>\n",
       "      <td>41.0</td>\n",
       "      <td>0.0</td>\n",
       "      <td>0.0</td>\n",
       "      <td>0.0</td>\n",
       "      <td>0.0</td>\n",
       "      <td>1.0</td>\n",
       "      <td>1842.066732</td>\n",
       "      <td>1.0</td>\n",
       "      <td>1.0</td>\n",
       "    </tr>\n",
       "  </tbody>\n",
       "</table>\n",
       "</div>"
      ],
      "text/plain": [
       "   edad  hombre  est_sup  colegio_priv  gran_empresa  segundo_trab  \\\n",
       "1  28.0     0.0      1.0           0.0           0.0           1.0   \n",
       "2  48.0     0.0      0.0           0.0           0.0           1.0   \n",
       "3  25.0     0.0      0.0           0.0           0.0           0.0   \n",
       "4  16.0     0.0      0.0           0.0           0.0           0.0   \n",
       "6  41.0     0.0      0.0           0.0           0.0           1.0   \n",
       "\n",
       "       ingbrut  urbano  no_pobre  \n",
       "1  1454.500000     1.0       1.0  \n",
       "2  2037.000000     1.0       1.0  \n",
       "3  2037.000000     1.0       1.0  \n",
       "4  2037.000000     1.0       1.0  \n",
       "6  1842.066732     1.0       1.0  "
      ]
     },
     "execution_count": 4,
     "metadata": {},
     "output_type": "execute_result"
    }
   ],
   "source": [
    "dta = pd.read_csv(\"./data/data_f.csv\", index_col=0)\n",
    "\n",
    "dta.head()"
   ]
  },
  {
   "cell_type": "markdown",
   "id": "f22668d6-39fc-4170-8ec4-cd65aea31a41",
   "metadata": {},
   "source": [
    "### Visualizaciones"
   ]
  },
  {
   "cell_type": "markdown",
   "id": "8ff22e40-f07e-4b7e-90cc-c414c4405326",
   "metadata": {},
   "source": [
    "Primero, es necesario realizar algunos graficos para las variables que son continuas como en el caso de `ingbrut` y `edad`"
   ]
  },
  {
   "cell_type": "code",
   "execution_count": null,
   "id": "f37a82ec-907a-477c-8b6c-342daccfc6fb",
   "metadata": {},
   "outputs": [],
   "source": [
    "ax = sns.displot(dta, x=\"ingbrut\", binwidth=10)\n",
    "\n",
    "ax.set(title=\"Distribucion de los ingresos\")\n",
    "ax.set_axis_labels(\"Ingresos brutos\", \"Frecuencia\", fontsize = 12)\n",
    "\n",
    "plt.savefig(\"./figures/distribucion_ingbrut.pdf\")"
   ]
  },
  {
   "cell_type": "code",
   "execution_count": null,
   "id": "ef3c4cd3-b853-45a3-9a5d-d645869ddec9",
   "metadata": {},
   "outputs": [],
   "source": [
    "ax = sns.displot(dta, x=\"edad\", binwidth=10, palette=\"Set1\")\n",
    "\n",
    "ax.set(title=\"Distribucion de las edades\")\n",
    "ax.set_axis_labels(\"Edad\", \"Frecuencia\", fontsize = 12)\n",
    "\n",
    "plt.savefig(\"./figures/distribucion_edad.pdf\", bbox_inches=\"tight\", transparent=True)"
   ]
  },
  {
   "cell_type": "markdown",
   "id": "0779bef8-d23e-4dc1-aa8b-0ded22d65b79",
   "metadata": {},
   "source": [
    "Como se observa en el primer grafico, es necesario realizar una correccion a las cifras de ingresos brutos, debido a que esta concentrado principalmente en valores muy bajos. Esto se realizara aplicando logaritmos a las variables."
   ]
  },
  {
   "cell_type": "code",
   "execution_count": 5,
   "id": "fb0ac5bf-dc31-497e-8957-e22098c725e8",
   "metadata": {},
   "outputs": [],
   "source": [
    "dta = dta.loc[(dta[\"ingbrut\"] > 0)]\n",
    "\n",
    "dta[\"ln_ing\"] = np.log(dta[\"ingbrut\"])"
   ]
  },
  {
   "cell_type": "code",
   "execution_count": null,
   "id": "0409bd1b-459e-4eb8-9624-975d25f92a10",
   "metadata": {},
   "outputs": [],
   "source": [
    "ax = sns.displot(dta, x=\"ln_ing\")\n",
    "\n",
    "ax.set(title=\"Distribucion de los log Ingresos\")\n",
    "ax.set_axis_labels(\"Log Ingresos\", \"Frecuencia\", fontsize = 12)\n",
    "\n",
    "plt.savefig(\"./figures/distribucion_ln_ing.pdf\", bbox_inches=\"tight\", transparent=True)"
   ]
  },
  {
   "cell_type": "markdown",
   "id": "c067acab-bba7-49c0-b1e4-03388b8cd555",
   "metadata": {},
   "source": [
    "Una vez corregida la variable de ingresos, e incluso habiendola vuelto mas parecida a una normal, se puede realizar un grafico de dispersion entre los `ingresos` y la variable `no pobre`"
   ]
  },
  {
   "cell_type": "code",
   "execution_count": null,
   "id": "694e9c80-4003-4874-ae8e-aa2769714567",
   "metadata": {},
   "outputs": [],
   "source": [
    "ax = sns.lmplot(x=\"ln_ing\", y=\"no_pobre\", data=dta, logistic=True, line_kws={\"color\": \"red\"})\n",
    "\n",
    "ax.set(title=\"Dispersion de la pobreza por ingresos\")\n",
    "ax.set_axis_labels(\"Log Ingresos\", \"No pobre\", fontsize = 12)\n",
    "\n",
    "plt.savefig(\"./figures/distribucion_ln_ing.pdf\", bbox_inches=\"tight\", transparent=True)"
   ]
  },
  {
   "cell_type": "code",
   "execution_count": null,
   "id": "bdfa6aad-e430-44b1-a71f-aa5dc171d634",
   "metadata": {},
   "outputs": [],
   "source": []
  },
  {
   "cell_type": "code",
   "execution_count": null,
   "id": "f9009c5d-7373-4398-8b3a-c1e33aa5d8c0",
   "metadata": {},
   "outputs": [],
   "source": []
  },
  {
   "cell_type": "code",
   "execution_count": null,
   "id": "b8979389-7afa-4fb5-ae47-5c220e6b3cb9",
   "metadata": {},
   "outputs": [],
   "source": []
  },
  {
   "cell_type": "markdown",
   "id": "bbe11732-a7f3-4c81-866b-30a5c6e0dd8b",
   "metadata": {},
   "source": [
    "### Procesamiento: split y estandarizacion\n",
    "Primero definimos las variables que tendremos como explicativas y al target"
   ]
  },
  {
   "cell_type": "code",
   "execution_count": 19,
   "id": "e37f3acd-fd12-4177-b061-991b84c494cb",
   "metadata": {},
   "outputs": [],
   "source": [
    "X_names = [\"edad\", \"hombre\", \"est_sup\", \"colegio_priv\", \"gran_empresa\", \"segundo_trab\", \"urbano\", \"ln_ing\"]\n",
    "X = dta[X_names]\n",
    "\n",
    "y = dta[\"no_pobre\"]"
   ]
  },
  {
   "cell_type": "markdown",
   "id": "ff837320-d1ec-438b-a05b-f1404861cb25",
   "metadata": {},
   "source": [
    "Estandarizamos cada valor de la explicativa"
   ]
  },
  {
   "cell_type": "code",
   "execution_count": 20,
   "id": "e94ee800-54bc-4dee-b18a-b0259a40e26c",
   "metadata": {},
   "outputs": [
    {
     "data": {
      "text/plain": [
       "array([[-0.81102386, -1.07773763,  2.03392515, ...,  1.96795541,\n",
       "         0.68294492, -0.18201526],\n",
       "       [ 0.37979517, -1.07773763, -0.49166018, ...,  1.96795541,\n",
       "         0.68294492,  0.14456907],\n",
       "       [-0.98964671, -1.07773763, -0.49166018, ..., -0.5081416 ,\n",
       "         0.68294492,  0.14456907],\n",
       "       ...,\n",
       "       [-0.3942372 ,  0.92786961,  2.03392515, ..., -0.5081416 ,\n",
       "         0.68294492, -0.29619951],\n",
       "       [-0.03699149, -1.07773763, -0.49166018, ..., -0.5081416 ,\n",
       "         0.68294492, -0.0253364 ],\n",
       "       [-1.16826956,  0.92786961, -0.49166018, ..., -0.5081416 ,\n",
       "         0.68294492, -0.0253364 ]])"
      ]
     },
     "execution_count": 20,
     "metadata": {},
     "output_type": "execute_result"
    }
   ],
   "source": [
    "X = StandardScaler().fit_transform(X)\n",
    "X"
   ]
  },
  {
   "cell_type": "markdown",
   "id": "e01b7714-818b-4ac5-aaf1-283106b95bed",
   "metadata": {},
   "source": [
    "Ahora se separará la base de datos entre las de `entrenamiento` y `testeo`"
   ]
  },
  {
   "cell_type": "code",
   "execution_count": 21,
   "id": "9be60bf8-9a96-4d2f-a82d-b77d334a3db0",
   "metadata": {},
   "outputs": [
    {
     "name": "stdout",
     "output_type": "stream",
     "text": [
      "La cantidad de observaciones que tiene el training set es 60301 y la de test 20101\n"
     ]
    }
   ],
   "source": [
    "X_train, X_test, y_train, y_test = train_test_split(X, y, test_size=0.25, random_state=1)\n",
    "\n",
    "print(f\"La cantidad de observaciones que tiene el training set es {y_train.shape[0]}\\\n",
    " y la de test {y_test.shape[0]}\")"
   ]
  },
  {
   "cell_type": "markdown",
   "id": "50dcc0dd-0287-41ec-8739-3e5aa09aed24",
   "metadata": {},
   "source": [
    "### Prueba 1: Modelo lineal"
   ]
  },
  {
   "cell_type": "code",
   "execution_count": 22,
   "id": "6dbf7c71-e4a3-4cd8-9c71-09ca9dd21549",
   "metadata": {},
   "outputs": [
    {
     "data": {
      "text/plain": [
       "LinearRegression()"
      ]
     },
     "execution_count": 22,
     "metadata": {},
     "output_type": "execute_result"
    }
   ],
   "source": [
    "lm = LinearRegression().fit(X_train, y_train)\n",
    "lm"
   ]
  },
  {
   "cell_type": "code",
   "execution_count": 23,
   "id": "1ad20ab4-b321-4ae2-ae50-778cdccd0641",
   "metadata": {},
   "outputs": [
    {
     "name": "stdout",
     "output_type": "stream",
     "text": [
      "Tras la regresión, el coeficiente es 0.83 y la lista de coeficientes es el siguiente:\n",
      " ['edad', 'hombre', 'est_sup', 'colegio_priv', 'gran_empresa', 'segundo_trab', 'urbano', 'ln_ing']\n",
      " [ 0.037 -0.004  0.006  0.019  0.001  0.003  0.046  0.115]\n"
     ]
    }
   ],
   "source": [
    "print(f\"Tras la regresión, el coeficiente es {np.round(lm.intercept_, 2)}\\\n",
    " y la lista de coeficientes es el siguiente:\\n\\\n",
    " {X_names}\\n {np.round(lm.coef_, 3)}\")"
   ]
  },
  {
   "cell_type": "markdown",
   "id": "fbbb6674-ad40-4861-b7ec-5d6365b88e89",
   "metadata": {},
   "source": [
    "Aunque tambien se podria observar los resultados mediante la libreria de `statsmodels`"
   ]
  },
  {
   "cell_type": "code",
   "execution_count": 24,
   "id": "8c027de0-d0c7-4072-bfad-0a8708af2954",
   "metadata": {},
   "outputs": [
    {
     "name": "stdout",
     "output_type": "stream",
     "text": [
      "                                 OLS Regression Results                                \n",
      "=======================================================================================\n",
      "Dep. Variable:               no_pobre   R-squared (uncentered):                   0.029\n",
      "Model:                            OLS   Adj. R-squared (uncentered):              0.029\n",
      "Method:                 Least Squares   F-statistic:                              226.9\n",
      "Date:                Wed, 26 Oct 2022   Prob (F-statistic):                        0.00\n",
      "Time:                        18:10:16   Log-Likelihood:                         -79225.\n",
      "No. Observations:               60301   AIC:                                  1.585e+05\n",
      "Df Residuals:                   60293   BIC:                                  1.585e+05\n",
      "Df Model:                           8                                                  \n",
      "Covariance Type:            nonrobust                                                  \n",
      "==============================================================================\n",
      "                 coef    std err          t      P>|t|      [0.025      0.975]\n",
      "------------------------------------------------------------------------------\n",
      "x1             0.0391      0.004     10.484      0.000       0.032       0.046\n",
      "x2            -0.0044      0.004     -1.210      0.226      -0.012       0.003\n",
      "x3             0.0059      0.004      1.354      0.176      -0.003       0.014\n",
      "x4             0.0222      0.004      5.362      0.000       0.014       0.030\n",
      "x5            -0.0006      0.004     -0.149      0.882      -0.008       0.007\n",
      "x6             0.0045      0.004      1.227      0.220      -0.003       0.012\n",
      "x7             0.0461      0.004     10.696      0.000       0.038       0.055\n",
      "x8             0.1151      0.004     25.825      0.000       0.106       0.124\n",
      "==============================================================================\n",
      "Omnibus:                    11779.534   Durbin-Watson:                   0.280\n",
      "Prob(Omnibus):                  0.000   Jarque-Bera (JB):            19993.550\n",
      "Skew:                          -1.330   Prob(JB):                         0.00\n",
      "Kurtosis:                       3.939   Cond. No.                         2.19\n",
      "==============================================================================\n",
      "\n",
      "Notes:\n",
      "[1] R² is computed without centering (uncentered) since the model does not contain a constant.\n",
      "[2] Standard Errors assume that the covariance matrix of the errors is correctly specified.\n"
     ]
    }
   ],
   "source": [
    "ols = sm.OLS(y_train, X_train).fit()\n",
    "print(ols.summary())"
   ]
  },
  {
   "cell_type": "markdown",
   "id": "feb6fa7f-1b6e-4769-8c3e-9ba4b8ea3509",
   "metadata": {},
   "source": [
    "Con un modelo lineal, el `ajuste es muy bajo`"
   ]
  },
  {
   "cell_type": "code",
   "execution_count": 25,
   "id": "31d745e9-b733-4c44-b6bb-c1533a4b2ea8",
   "metadata": {},
   "outputs": [
    {
     "name": "stdout",
     "output_type": "stream",
     "text": [
      "El score de ajuste es 0.1744\n"
     ]
    }
   ],
   "source": [
    "r2 = lm.score(X_train, y_train)\n",
    "print(f\"El score de ajuste es {np.round(r2, 4)}\")"
   ]
  },
  {
   "cell_type": "code",
   "execution_count": 26,
   "id": "8aece419-1585-4961-9346-81165d68feb3",
   "metadata": {},
   "outputs": [
    {
     "ename": "ValueError",
     "evalue": "Classification metrics can't handle a mix of binary and continuous targets",
     "output_type": "error",
     "traceback": [
      "\u001b[1;31m---------------------------------------------------------------------------\u001b[0m",
      "\u001b[1;31mValueError\u001b[0m                                Traceback (most recent call last)",
      "\u001b[1;32m~\\AppData\\Local\\Temp/ipykernel_22788/950320459.py\u001b[0m in \u001b[0;36m<module>\u001b[1;34m\u001b[0m\n\u001b[0;32m      1\u001b[0m \u001b[0my_pred\u001b[0m \u001b[1;33m=\u001b[0m \u001b[0mlm\u001b[0m\u001b[1;33m.\u001b[0m\u001b[0mpredict\u001b[0m\u001b[1;33m(\u001b[0m\u001b[0mX_test\u001b[0m\u001b[1;33m)\u001b[0m\u001b[1;33m\u001b[0m\u001b[1;33m\u001b[0m\u001b[0m\n\u001b[1;32m----> 2\u001b[1;33m \u001b[0mprint\u001b[0m\u001b[1;33m(\u001b[0m\u001b[1;34mf\"El score de ajuste es {accuracy_score(y_test, y_pred)}\"\u001b[0m\u001b[1;33m)\u001b[0m\u001b[1;33m\u001b[0m\u001b[1;33m\u001b[0m\u001b[0m\n\u001b[0m",
      "\u001b[1;32m~\\anaconda3\\lib\\site-packages\\sklearn\\utils\\validation.py\u001b[0m in \u001b[0;36minner_f\u001b[1;34m(*args, **kwargs)\u001b[0m\n\u001b[0;32m     61\u001b[0m             \u001b[0mextra_args\u001b[0m \u001b[1;33m=\u001b[0m \u001b[0mlen\u001b[0m\u001b[1;33m(\u001b[0m\u001b[0margs\u001b[0m\u001b[1;33m)\u001b[0m \u001b[1;33m-\u001b[0m \u001b[0mlen\u001b[0m\u001b[1;33m(\u001b[0m\u001b[0mall_args\u001b[0m\u001b[1;33m)\u001b[0m\u001b[1;33m\u001b[0m\u001b[1;33m\u001b[0m\u001b[0m\n\u001b[0;32m     62\u001b[0m             \u001b[1;32mif\u001b[0m \u001b[0mextra_args\u001b[0m \u001b[1;33m<=\u001b[0m \u001b[1;36m0\u001b[0m\u001b[1;33m:\u001b[0m\u001b[1;33m\u001b[0m\u001b[1;33m\u001b[0m\u001b[0m\n\u001b[1;32m---> 63\u001b[1;33m                 \u001b[1;32mreturn\u001b[0m \u001b[0mf\u001b[0m\u001b[1;33m(\u001b[0m\u001b[1;33m*\u001b[0m\u001b[0margs\u001b[0m\u001b[1;33m,\u001b[0m \u001b[1;33m**\u001b[0m\u001b[0mkwargs\u001b[0m\u001b[1;33m)\u001b[0m\u001b[1;33m\u001b[0m\u001b[1;33m\u001b[0m\u001b[0m\n\u001b[0m\u001b[0;32m     64\u001b[0m \u001b[1;33m\u001b[0m\u001b[0m\n\u001b[0;32m     65\u001b[0m             \u001b[1;31m# extra_args > 0\u001b[0m\u001b[1;33m\u001b[0m\u001b[1;33m\u001b[0m\u001b[0m\n",
      "\u001b[1;32m~\\anaconda3\\lib\\site-packages\\sklearn\\metrics\\_classification.py\u001b[0m in \u001b[0;36maccuracy_score\u001b[1;34m(y_true, y_pred, normalize, sample_weight)\u001b[0m\n\u001b[0;32m    200\u001b[0m \u001b[1;33m\u001b[0m\u001b[0m\n\u001b[0;32m    201\u001b[0m     \u001b[1;31m# Compute accuracy for each possible representation\u001b[0m\u001b[1;33m\u001b[0m\u001b[1;33m\u001b[0m\u001b[0m\n\u001b[1;32m--> 202\u001b[1;33m     \u001b[0my_type\u001b[0m\u001b[1;33m,\u001b[0m \u001b[0my_true\u001b[0m\u001b[1;33m,\u001b[0m \u001b[0my_pred\u001b[0m \u001b[1;33m=\u001b[0m \u001b[0m_check_targets\u001b[0m\u001b[1;33m(\u001b[0m\u001b[0my_true\u001b[0m\u001b[1;33m,\u001b[0m \u001b[0my_pred\u001b[0m\u001b[1;33m)\u001b[0m\u001b[1;33m\u001b[0m\u001b[1;33m\u001b[0m\u001b[0m\n\u001b[0m\u001b[0;32m    203\u001b[0m     \u001b[0mcheck_consistent_length\u001b[0m\u001b[1;33m(\u001b[0m\u001b[0my_true\u001b[0m\u001b[1;33m,\u001b[0m \u001b[0my_pred\u001b[0m\u001b[1;33m,\u001b[0m \u001b[0msample_weight\u001b[0m\u001b[1;33m)\u001b[0m\u001b[1;33m\u001b[0m\u001b[1;33m\u001b[0m\u001b[0m\n\u001b[0;32m    204\u001b[0m     \u001b[1;32mif\u001b[0m \u001b[0my_type\u001b[0m\u001b[1;33m.\u001b[0m\u001b[0mstartswith\u001b[0m\u001b[1;33m(\u001b[0m\u001b[1;34m'multilabel'\u001b[0m\u001b[1;33m)\u001b[0m\u001b[1;33m:\u001b[0m\u001b[1;33m\u001b[0m\u001b[1;33m\u001b[0m\u001b[0m\n",
      "\u001b[1;32m~\\anaconda3\\lib\\site-packages\\sklearn\\metrics\\_classification.py\u001b[0m in \u001b[0;36m_check_targets\u001b[1;34m(y_true, y_pred)\u001b[0m\n\u001b[0;32m     90\u001b[0m \u001b[1;33m\u001b[0m\u001b[0m\n\u001b[0;32m     91\u001b[0m     \u001b[1;32mif\u001b[0m \u001b[0mlen\u001b[0m\u001b[1;33m(\u001b[0m\u001b[0my_type\u001b[0m\u001b[1;33m)\u001b[0m \u001b[1;33m>\u001b[0m \u001b[1;36m1\u001b[0m\u001b[1;33m:\u001b[0m\u001b[1;33m\u001b[0m\u001b[1;33m\u001b[0m\u001b[0m\n\u001b[1;32m---> 92\u001b[1;33m         raise ValueError(\"Classification metrics can't handle a mix of {0} \"\n\u001b[0m\u001b[0;32m     93\u001b[0m                          \"and {1} targets\".format(type_true, type_pred))\n\u001b[0;32m     94\u001b[0m \u001b[1;33m\u001b[0m\u001b[0m\n",
      "\u001b[1;31mValueError\u001b[0m: Classification metrics can't handle a mix of binary and continuous targets"
     ]
    }
   ],
   "source": [
    "y_pred = lm.predict(X_test)\n",
    "print(f\"El score de ajuste es {accuracy_score(y_test, y_pred)}\")"
   ]
  },
  {
   "cell_type": "code",
   "execution_count": null,
   "id": "68240b00-f0e5-4579-9d45-49bac5829a0a",
   "metadata": {},
   "outputs": [],
   "source": [
    "### ajuste"
   ]
  },
  {
   "cell_type": "code",
   "execution_count": null,
   "id": "dd00aba6-e38f-42a1-8164-e40d0feb47c5",
   "metadata": {},
   "outputs": [],
   "source": []
  },
  {
   "cell_type": "code",
   "execution_count": null,
   "id": "94ebe3b1-46af-421e-aba1-6b1cdd9696d0",
   "metadata": {},
   "outputs": [],
   "source": []
  },
  {
   "cell_type": "markdown",
   "id": "e877e954-0e20-4147-ab05-5c8e0ca2bbe3",
   "metadata": {},
   "source": [
    "### Prueba 2: Modelo Logit "
   ]
  },
  {
   "cell_type": "code",
   "execution_count": null,
   "id": "8cfbdd83-13dd-45c1-89d0-138915232e40",
   "metadata": {},
   "outputs": [],
   "source": [
    "### solo usaré las variables que sean significativas"
   ]
  },
  {
   "cell_type": "code",
   "execution_count": 32,
   "id": "e2058dd5-a6a7-4c88-b190-d7ddd4b412e9",
   "metadata": {},
   "outputs": [],
   "source": [
    "X_names = [\"edad\", \"hombre\", \"est_sup\", \"colegio_priv\", \"urbano\", \"ln_ing\"]\n",
    "X = dta[X_names]\n",
    "y = dta[\"no_pobre\"]\n",
    "\n",
    "X_train, X_test, y_train, y_test = train_test_split(X, y, test_size=0.25, random_state=1)"
   ]
  },
  {
   "cell_type": "code",
   "execution_count": 33,
   "id": "1e4efcf9-3319-4ab8-8065-14c6962e3d56",
   "metadata": {},
   "outputs": [
    {
     "name": "stdout",
     "output_type": "stream",
     "text": [
      "Optimization terminated successfully.\n",
      "         Current function value: 0.385731\n",
      "         Iterations 7\n",
      "                           Logit Regression Results                           \n",
      "==============================================================================\n",
      "Dep. Variable:               no_pobre   No. Observations:                60301\n",
      "Model:                          Logit   Df Residuals:                    60295\n",
      "Method:                           MLE   Df Model:                            5\n",
      "Date:                Wed, 26 Oct 2022   Pseudo R-squ.:                  0.1394\n",
      "Time:                        18:11:27   Log-Likelihood:                -23260.\n",
      "converged:                       True   LL-Null:                       -27027.\n",
      "Covariance Type:            nonrobust   LLR p-value:                     0.000\n",
      "================================================================================\n",
      "                   coef    std err          z      P>|z|      [0.025      0.975]\n",
      "--------------------------------------------------------------------------------\n",
      "edad             0.0028      0.001      4.521      0.000       0.002       0.004\n",
      "hombre          -0.2344      0.024     -9.867      0.000      -0.281      -0.188\n",
      "est_sup          1.1538      0.056     20.561      0.000       1.044       1.264\n",
      "colegio_priv     0.9058      0.054     16.724      0.000       0.800       1.012\n",
      "urbano           1.0330      0.026     40.469      0.000       0.983       1.083\n",
      "ln_ing           0.1235      0.005     26.105      0.000       0.114       0.133\n",
      "================================================================================\n"
     ]
    }
   ],
   "source": [
    "logit = sm.Logit(y_train, X_train).fit()\n",
    "print(logit.summary())"
   ]
  },
  {
   "cell_type": "markdown",
   "id": "c65fb068-737e-4237-9ece-c552d2257c1f",
   "metadata": {},
   "source": [
    "Los resultados son interesantes:\n",
    "\n",
    "* Las personas con mayor edad tienen menos probabilidad de ser probreza\n",
    "* El ser hombre no reduce el nivel de pobreza, sino lo vuelve mas probable\n",
    "* Tener un estudio superior (no universitario, universitario, maestria o doctorado) reduce los niveles de pobreza\n",
    "* Haber estudiado en un colegio privado reduce la probabilidad de ser pobre\n",
    "* Vivir en una zona urbana tambien reduce la probabilidad de ser pobre\n",
    "* _El mas evidente_: recibir mayores ingresos tambien reduce la probabilidad de ser pobre"
   ]
  },
  {
   "cell_type": "markdown",
   "id": "c238a174-b938-4b2d-b33a-77a59ad950b2",
   "metadata": {},
   "source": [
    "### Modelos de clasificacion\n",
    "\n",
    "Tras haber definido cuales son las variables que usare, procedo a estimar cada uno de los algoritmos de clasificacion para ver cual se ajusta mejor\n",
    "\n",
    "#### 1. Logistic Regression"
   ]
  },
  {
   "cell_type": "code",
   "execution_count": null,
   "id": "0c910f0f-42d8-4538-a6d0-ee402c43dbe9",
   "metadata": {},
   "outputs": [],
   "source": []
  },
  {
   "cell_type": "code",
   "execution_count": null,
   "id": "075779d8-45cf-45c3-8220-2ac456a46a80",
   "metadata": {},
   "outputs": [],
   "source": []
  },
  {
   "cell_type": "code",
   "execution_count": null,
   "id": "4b63b523-f4e7-44ad-8cc9-90bed085a930",
   "metadata": {},
   "outputs": [],
   "source": [
    "### ajuste"
   ]
  },
  {
   "cell_type": "code",
   "execution_count": null,
   "id": "22f32265-d97d-4202-8eee-c66bb3685c3c",
   "metadata": {},
   "outputs": [],
   "source": []
  },
  {
   "cell_type": "code",
   "execution_count": null,
   "id": "2cf279fe-6548-4d48-bc09-581de8b7c1ba",
   "metadata": {},
   "outputs": [],
   "source": []
  },
  {
   "cell_type": "markdown",
   "id": "6b2441d9-54c0-4704-a9fe-649e4fcc9aeb",
   "metadata": {},
   "source": [
    "#### 2. KNN: K-Nearest Neighbours"
   ]
  },
  {
   "cell_type": "code",
   "execution_count": null,
   "id": "f9270ae5-3891-4444-a526-5d4e9aa55630",
   "metadata": {},
   "outputs": [],
   "source": []
  },
  {
   "cell_type": "code",
   "execution_count": null,
   "id": "24ab648a-b11d-4881-bf36-674e6c7d42f1",
   "metadata": {},
   "outputs": [],
   "source": []
  },
  {
   "cell_type": "code",
   "execution_count": null,
   "id": "f81fa203-e1ad-4700-b25b-30066f9b94ea",
   "metadata": {},
   "outputs": [],
   "source": [
    "### ajuste"
   ]
  },
  {
   "cell_type": "code",
   "execution_count": null,
   "id": "832ed3d3-0458-433a-b4da-a130ff4ac453",
   "metadata": {},
   "outputs": [],
   "source": []
  },
  {
   "cell_type": "code",
   "execution_count": null,
   "id": "4f6f41a0-6e79-4d54-afe2-cbd5f8eef39a",
   "metadata": {},
   "outputs": [],
   "source": []
  },
  {
   "cell_type": "markdown",
   "id": "53af80ad-b058-47f2-aa4d-7714d24cfe5d",
   "metadata": {},
   "source": [
    "#### 3. Decision Tree"
   ]
  },
  {
   "cell_type": "code",
   "execution_count": null,
   "id": "20a3f0ad-994d-4f5b-be5b-d571703135ea",
   "metadata": {},
   "outputs": [],
   "source": []
  },
  {
   "cell_type": "code",
   "execution_count": null,
   "id": "cdef857e-26ab-474f-8b8a-6a7ba4a407bc",
   "metadata": {},
   "outputs": [],
   "source": []
  },
  {
   "cell_type": "code",
   "execution_count": null,
   "id": "1f0c5500-430e-41b3-810b-78f77c7fa3d8",
   "metadata": {},
   "outputs": [],
   "source": [
    "### ajuste"
   ]
  },
  {
   "cell_type": "code",
   "execution_count": null,
   "id": "4e30ed52-1623-4a79-9bb8-f43820129602",
   "metadata": {},
   "outputs": [],
   "source": []
  },
  {
   "cell_type": "code",
   "execution_count": null,
   "id": "227d8af4-535c-4d56-90e4-51451602c5fe",
   "metadata": {},
   "outputs": [],
   "source": []
  },
  {
   "cell_type": "markdown",
   "id": "67746382-b582-4c54-a575-6961430ae36b",
   "metadata": {},
   "source": [
    "#### 4. Random Forest"
   ]
  },
  {
   "cell_type": "code",
   "execution_count": null,
   "id": "20028c82-66e2-4368-89c1-d511ec169305",
   "metadata": {},
   "outputs": [],
   "source": []
  },
  {
   "cell_type": "code",
   "execution_count": null,
   "id": "28e94eb6-e079-4871-a595-908675dd7ec2",
   "metadata": {},
   "outputs": [],
   "source": []
  },
  {
   "cell_type": "code",
   "execution_count": null,
   "id": "500131c5-c9c1-4f30-8f6e-35145241dea9",
   "metadata": {},
   "outputs": [],
   "source": [
    "### ajuste"
   ]
  },
  {
   "cell_type": "code",
   "execution_count": null,
   "id": "5a4b817f-4c36-4f61-8e11-03ebcfed9835",
   "metadata": {},
   "outputs": [],
   "source": []
  },
  {
   "cell_type": "code",
   "execution_count": null,
   "id": "516c615a-65d6-4a4f-846c-579fe3a3ac7e",
   "metadata": {},
   "outputs": [],
   "source": []
  },
  {
   "cell_type": "markdown",
   "id": "92dfd0c2-09d4-412b-b361-384f21d54d27",
   "metadata": {},
   "source": [
    "#### Selección del modelo"
   ]
  },
  {
   "cell_type": "code",
   "execution_count": null,
   "id": "7b335d80-bffa-4572-8be5-b1c2fccb2504",
   "metadata": {},
   "outputs": [],
   "source": []
  },
  {
   "cell_type": "code",
   "execution_count": null,
   "id": "e79fc815-a848-4568-97b9-a5b72b10d748",
   "metadata": {},
   "outputs": [],
   "source": []
  },
  {
   "cell_type": "code",
   "execution_count": null,
   "id": "7058468e-3c45-46de-adfa-3a235d714464",
   "metadata": {},
   "outputs": [],
   "source": []
  },
  {
   "cell_type": "code",
   "execution_count": null,
   "id": "2eb9a7b7-fefc-4e0a-a2c5-9955f1c5f036",
   "metadata": {},
   "outputs": [],
   "source": [
    "### Validación: K"
   ]
  },
  {
   "cell_type": "code",
   "execution_count": null,
   "id": "34110acc-b553-4a22-80f9-d6b5498157cf",
   "metadata": {},
   "outputs": [],
   "source": []
  },
  {
   "cell_type": "code",
   "execution_count": null,
   "id": "810e11bd-df8b-4683-ab46-3a1511ce6582",
   "metadata": {},
   "outputs": [],
   "source": []
  },
  {
   "cell_type": "code",
   "execution_count": null,
   "id": "a92e9555-8584-4506-ae7c-9b80d4af6908",
   "metadata": {},
   "outputs": [],
   "source": []
  }
 ],
 "metadata": {
  "kernelspec": {
   "display_name": "base",
   "language": "python",
   "name": "python3"
  },
  "language_info": {
   "codemirror_mode": {
    "name": "ipython",
    "version": 3
   },
   "file_extension": ".py",
   "mimetype": "text/x-python",
   "name": "python",
   "nbconvert_exporter": "python",
   "pygments_lexer": "ipython3",
   "version": "3.9.13 (main, Oct 13 2022, 21:23:06) [MSC v.1916 64 bit (AMD64)]"
  },
  "vscode": {
   "interpreter": {
    "hash": "a077222d77dfe082b8f1dd562ad70e458ac2ab76993a0b248ab0476e32e9e8dd"
   }
  }
 },
 "nbformat": 4,
 "nbformat_minor": 5
}
