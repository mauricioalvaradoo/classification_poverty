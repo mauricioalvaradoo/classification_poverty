{
 "cells": [
  {
   "cell_type": "markdown",
   "id": "84e64044-3e89-4a83-bc31-71165728e307",
   "metadata": {},
   "source": [
    "## Clasificación de personas en situación de pobreza"
   ]
  },
  {
   "cell_type": "code",
   "execution_count": null,
   "id": "d46ad7d1-4416-4335-a4ce-7fcf52e71f46",
   "metadata": {},
   "outputs": [],
   "source": [
    "# !pip install xgboost\n",
    "# !pip install tensorflow\n",
    "import pandas as pd\n",
    "import numpy as np\n",
    "import matplotlib.pyplot as plt\n",
    "import seaborn as sns\n",
    "import utils\n",
    "\n",
    "from sklearn.preprocessing import StandardScaler\n",
    "from sklearn.model_selection import train_test_split, GridSearchCV\n",
    "from sklearn.metrics import (\n",
    "    accuracy_score, precision_score, recall_score, f1_score,\n",
    "    classification_report, confusion_matrix, ConfusionMatrixDisplay,\n",
    "    roc_curve\n",
    ")\n",
    "\n",
    "# Clasificadores\n",
    "import statsmodels.api as sm\n",
    "from sklearn.linear_model import LinearRegression, LogisticRegression\n",
    "from sklearn.neighbors import KNeighborsClassifier\n",
    "from sklearn.tree import DecisionTreeClassifier, plot_tree\n",
    "from sklearn.ensemble import RandomForestClassifier\n",
    "from sklearn.svm import SVC\n",
    "from xgboost import XGBClassifier\n",
    "from sklearn.naive_bayes import GaussianNB\n",
    "\n",
    "from tensorflow.keras.layers import Dense\n",
    "from tensorflow.keras import Sequential, Input\n",
    "from tensorflow.keras.losses import BinaryCrossentropy\n",
    "from tensorflow.keras.optimizers import Adam\n",
    "from tensorflow.random import set_seed\n",
    "\n",
    "import warnings\n",
    "warnings.simplefilter(\"ignore\")"
   ]
  },
  {
   "cell_type": "code",
   "execution_count": null,
   "id": "8b7388b6",
   "metadata": {},
   "outputs": [],
   "source": [
    "dta = pd.read_csv(\"./data/data_f.csv\", index_col=0)\n",
    "dta.head()"
   ]
  },
  {
   "cell_type": "markdown",
   "id": "bbe11732-a7f3-4c81-866b-30a5c6e0dd8b",
   "metadata": {},
   "source": [
    "### Split y estandarización\n",
    "Primero definimos las variables que tendremos como explicativas y al target"
   ]
  },
  {
   "cell_type": "code",
   "execution_count": null,
   "id": "e37f3acd-fd12-4177-b061-991b84c494cb",
   "metadata": {},
   "outputs": [],
   "source": [
    "dta = dta.loc[(dta[\"ingbrut\"] > 0)]\n",
    "dta[\"lning\"] = np.log(dta[\"ingbrut\"])\n",
    "X_names = [\"edad\", \"hombre\", \"est_sup\", \"colegio_priv\", \"gran_empresa\", \"segundo_trab\", \"urbano\", \"lning\"]\n",
    "X = dta[X_names]\n",
    "y = dta[\"no_pobre\"]\n",
    "\n",
    "# Estandarización\n",
    "scaler = StandardScaler().fit(X)\n",
    "X = scaler.transform(X)\n",
    "\n",
    "# Split\n",
    "X_train, X_test, y_train, y_test = train_test_split(X, y, test_size=0.2, random_state=1)"
   ]
  },
  {
   "cell_type": "markdown",
   "id": "f22668d6-39fc-4170-8ec4-cd65aea31a41",
   "metadata": {},
   "source": [
    "### Visualizaciones"
   ]
  },
  {
   "cell_type": "code",
   "execution_count": null,
   "id": "4567dca8-7965-492b-994f-a506246e4205",
   "metadata": {},
   "outputs": [],
   "source": [
    "print(f\"La distribución de la variable `no pobre` es:\\n{y.value_counts()}\\n\")\n",
    "print(f\"La distribución de la variable `no pobre` de entrenamiento es:\\n{y_train.value_counts()}\\n\")\n",
    "print(f\"La distribución de la variable `no pobre` de testing es:\\n{y_test.value_counts()}\\n\")"
   ]
  },
  {
   "cell_type": "code",
   "execution_count": null,
   "id": "24b07e8c",
   "metadata": {},
   "outputs": [],
   "source": [
    "plt.plot()\n",
    "correl = pd.DataFrame(X, columns=X_names).corr()\n",
    "\n",
    "sns.heatmap(correl, annot=True, fmt = \".1f\", cmap=\"RdPu\")\n",
    "plt.xticks(rotation=90)\n",
    "\n",
    "plt.title(\"Correlación entre explicativas\")\n",
    "plt.show()"
   ]
  },
  {
   "cell_type": "code",
   "execution_count": null,
   "id": "ef3c4cd3-b853-45a3-9a5d-d645869ddec9",
   "metadata": {},
   "outputs": [],
   "source": [
    "fig, axes = plt.subplots(1, 2, figsize=(8, 4), tight_layout=True)\n",
    "\n",
    "axes[0].hist(dta[\"edad\"], bins=20, density=True)\n",
    "axes[1].hist(dta[\"lning\"], bins=50, density=True)\n",
    "\n",
    "fig.suptitle(\"Distribuciones de las edades y del logaritmo de los ingresos\")\n",
    "\n",
    "plt.savefig(\"./figures/distribuciones.pdf\")\n",
    "plt.show()"
   ]
  },
  {
   "cell_type": "markdown",
   "id": "e877e954-0e20-4147-ab05-5c8e0ca2bbe3",
   "metadata": {},
   "source": [
    "### Relaciones entre las variables\n",
    "Para poder encontrar relaciones entre las variables, debido a que los modelos de clasificación no necesariante tienen ese objetivo. se puede estimar un modelo Logit"
   ]
  },
  {
   "cell_type": "code",
   "execution_count": null,
   "id": "feff9f25-cf58-4451-9d0c-fc4b533504df",
   "metadata": {},
   "outputs": [],
   "source": [
    "model = sm.Logit(y, X)\n",
    "results = model.fit()\n",
    "\n",
    "print(results.summary())"
   ]
  },
  {
   "cell_type": "code",
   "execution_count": null,
   "id": "2050306c-6a20-42b5-a5ef-9fff36055c1b",
   "metadata": {},
   "outputs": [],
   "source": [
    "AME = results.get_margeff(at=\"overall\", method=\"dydx\")\n",
    "\n",
    "print(AME.summary())"
   ]
  },
  {
   "cell_type": "markdown",
   "id": "af10bbff-32de-484c-bea2-d619b52cd5bf",
   "metadata": {},
   "source": [
    "Los resultados son interesantes:\n",
    "\n",
    "* Las personas con mayor edad tienen menos probabilidad de ser probreza\n",
    "* El ser hombre no reduce el nivel de pobreza, sino lo vuelve mas probable\n",
    "* Tener un estudio superior (no universitario, universitario, maestria o doctorado) reduce los niveles de pobreza\n",
    "* Haber estudiado en un colegio privado reduce la probabilidad de ser pobre\n",
    "* Vivir en una zona urbana tambien reduce la probabilidad de ser pobre\n",
    "* _El mas evidente_: recibir mayores ingresos tambien reduce la probabilidad de ser pobre"
   ]
  },
  {
   "cell_type": "markdown",
   "id": "50dcc0dd-0287-41ec-8739-3e5aa09aed24",
   "metadata": {},
   "source": [
    "### Modelo 1: Modelo lineal"
   ]
  },
  {
   "cell_type": "code",
   "execution_count": null,
   "id": "6dbf7c71-e4a3-4cd8-9c71-09ca9dd21549",
   "metadata": {},
   "outputs": [],
   "source": [
    "ml = LinearRegression().fit(X_train, y_train)\n",
    "\n",
    "yhat_proba_ml = ml.predict(X_test)\n",
    "yhat_ml = (yhat_proba_ml >= 0.5).astype(int)\n",
    "\n",
    "# Estadisticos\n",
    "score_ml = accuracy_score(y_test, yhat_ml)\n",
    "ps_ml = precision_score(y_test, yhat_ml)\n",
    "r_ml = recall_score(y_test, yhat_ml)\n",
    "f1_ml = f1_score(y_test, yhat_ml)\n",
    "\n",
    "# Confusion matrix y ROC\n",
    "conf_ml = confusion_matrix(y_test, yhat_ml, normalize=\"true\")\n",
    "report_ml = classification_report(y_test, yhat_ml)\n",
    "fml, tml, thresholds = roc_curve(y_test, yhat_proba_ml)\n",
    "\n",
    "print(report_ml)"
   ]
  },
  {
   "cell_type": "markdown",
   "id": "c238a174-b938-4b2d-b33a-77a59ad950b2",
   "metadata": {},
   "source": [
    "### Modelo 2. Logistic Regression"
   ]
  },
  {
   "cell_type": "code",
   "execution_count": null,
   "id": "22f32265-d97d-4202-8eee-c66bb3685c3c",
   "metadata": {},
   "outputs": [],
   "source": [
    "lr = LogisticRegression(random_state=19).fit(X_train, y_train)\n",
    "\n",
    "yhat_proba_lr = lr.predict_proba(X_test)[:,1]\n",
    "yhat_lr = lr.predict(X_test)\n",
    "\n",
    "# Estadisticos\n",
    "score_lr = accuracy_score(y_test, yhat_lr)\n",
    "ps_lr = precision_score(y_test, yhat_lr)\n",
    "r_lr = recall_score(y_test, yhat_lr)\n",
    "f1_lr = f1_score(y_test, yhat_lr)\n",
    "\n",
    "# Confusion matrix y ROC\n",
    "conf_lr = confusion_matrix(y_test, yhat_lr, normalize=\"true\")\n",
    "report_lr = classification_report(y_test, yhat_lr)\n",
    "flr, tlr, thresholds = roc_curve(y_test, yhat_proba_lr)\n",
    "\n",
    "print(report_lr)"
   ]
  },
  {
   "cell_type": "markdown",
   "id": "6b2441d9-54c0-4704-a9fe-649e4fcc9aeb",
   "metadata": {},
   "source": [
    "### Modelo 3. K-Nearest Neighbours"
   ]
  },
  {
   "cell_type": "code",
   "execution_count": null,
   "id": "f1d28a20",
   "metadata": {},
   "outputs": [],
   "source": [
    "# Grid Search: Cantidad de Neigbours\n",
    "knn_grid_search = KNeighborsClassifier()\n",
    "k_range = list(range(1, 26))\n",
    "param_grid = {\n",
    "    'n_neighbors': k_range,\n",
    "    'weights': [\"uniform\"]\n",
    "}\n",
    "\n",
    "grid = GridSearchCV(\n",
    "    knn_grid_search, param_grid, cv = 10, scoring = \"accuracy\",\n",
    "    return_train_score = False, verbose = 1,  n_jobs = -1 # Paralelización\n",
    ")\n",
    "\n",
    "knn = grid.fit(X_train, y_train)"
   ]
  },
  {
   "cell_type": "code",
   "execution_count": null,
   "id": "6b5fb906",
   "metadata": {},
   "outputs": [],
   "source": [
    "print(knn.best_params_)\n",
    "print(knn.best_score_ )"
   ]
  },
  {
   "cell_type": "code",
   "execution_count": null,
   "id": "f9270ae5-3891-4444-a526-5d4e9aa55630",
   "metadata": {},
   "outputs": [],
   "source": [
    "yhat_proba_knn = knn.predict_proba(X_test)[:,1]\n",
    "yhat_knn = knn.predict(X_test)\n",
    "\n",
    "# Estadisticos\n",
    "score_knn = accuracy_score(y_test, yhat_knn)\n",
    "ps_knn = precision_score(y_test, yhat_knn)\n",
    "r_knn = recall_score(y_test, yhat_knn)\n",
    "f1_knn = f1_score(y_test, yhat_knn)\n",
    "\n",
    "# Confusion matrix y ROC\n",
    "conf_knn = confusion_matrix(y_test, yhat_knn, normalize=\"true\")\n",
    "report_knn = classification_report(y_test, yhat_knn)\n",
    "fknn, tknn, thresholds = roc_curve(y_test, yhat_proba_knn)\n",
    "\n",
    "print(report_knn)"
   ]
  },
  {
   "cell_type": "markdown",
   "id": "53af80ad-b058-47f2-aa4d-7714d24cfe5d",
   "metadata": {},
   "source": [
    "### Modelo 4. Decision Tree"
   ]
  },
  {
   "cell_type": "code",
   "execution_count": null,
   "id": "1fbbbe69",
   "metadata": {},
   "outputs": [],
   "source": [
    "# Grid Search: Cantidad de Ramas\n",
    "tree_grid_search = DecisionTreeClassifier()\n",
    "max_depth_range = list(range(1, 11))\n",
    "param_grid = {\n",
    "    'criterion' : [\"entropy\"],\n",
    "    'max_depth' : max_depth_range,\n",
    "    'random_state': [19]\n",
    "}\n",
    "\n",
    "grid = GridSearchCV(\n",
    "    tree_grid_search, param_grid, cv = 10, scoring = \"accuracy\",\n",
    "    return_train_score = False, verbose = 1, n_jobs = -1\n",
    ")\n",
    "\n",
    "tree = grid.fit(X_train, y_train)"
   ]
  },
  {
   "cell_type": "code",
   "execution_count": null,
   "id": "ab26af57",
   "metadata": {},
   "outputs": [],
   "source": [
    "print(tree.best_params_)\n",
    "print(tree.best_score_ )"
   ]
  },
  {
   "cell_type": "code",
   "execution_count": null,
   "id": "20a3f0ad-994d-4f5b-be5b-d571703135ea",
   "metadata": {},
   "outputs": [],
   "source": [
    "yhat_proba_tree = tree.predict_proba(X_test)[:,1]\n",
    "yhat_tree = tree.predict(X_test)\n",
    "\n",
    "# Estadisticos\n",
    "score_tree = accuracy_score(y_test, yhat_tree)\n",
    "ps_tree = precision_score(y_test, yhat_tree)\n",
    "r_tree = recall_score(y_test, yhat_tree)\n",
    "f1_tree = f1_score(y_test, yhat_tree)\n",
    "\n",
    "# Confusion matrix y ROC\n",
    "conf_tree = confusion_matrix(y_test, yhat_tree, normalize=\"true\")\n",
    "report_tree = classification_report(y_test, yhat_tree)\n",
    "ftree, ttree, thresholds = roc_curve(y_test, yhat_proba_tree)\n",
    "\n",
    "print(report_tree)"
   ]
  },
  {
   "cell_type": "markdown",
   "id": "67746382-b582-4c54-a575-6961430ae36b",
   "metadata": {},
   "source": [
    "### Modelo 5. Random Forest"
   ]
  },
  {
   "cell_type": "code",
   "execution_count": null,
   "id": "64ed2381",
   "metadata": {},
   "outputs": [],
   "source": [
    "# Obteniendo los hyperparameters\n",
    "rf_grid_search = RandomForestClassifier()\n",
    "rf_grid_search.get_params()"
   ]
  },
  {
   "cell_type": "code",
   "execution_count": null,
   "id": "758ce3f9",
   "metadata": {},
   "outputs": [],
   "source": [
    "# Grid Search: Cantidad de Ramas y Árboles\n",
    "rf_grid_search = RandomForestClassifier()\n",
    "max_depth_range = list(range(1, 11))\n",
    "n_estimators_range = [100, 200, 300, 400, 500]\n",
    "\n",
    "param_grid = {\n",
    "    'criterion' : [\"entropy\"],\n",
    "    'max_depth': max_depth_range,       # Máxima profundidad\n",
    "    'n_estimators': n_estimators_range, # Número de arboles\n",
    "    'random_state': [19]\n",
    "}\n",
    "\n",
    "grid = GridSearchCV(\n",
    "    rf_grid_search, param_grid, cv = 10, scoring = \"accuracy\",\n",
    "    return_train_score = False, verbose = 1, n_jobs = -1\n",
    ")\n",
    "\n",
    "rf = grid.fit(X_train, y_train)"
   ]
  },
  {
   "cell_type": "code",
   "execution_count": null,
   "id": "8aabd0ff",
   "metadata": {},
   "outputs": [],
   "source": [
    "print(rf.best_params_)\n",
    "print(rf.best_score_ )"
   ]
  },
  {
   "cell_type": "code",
   "execution_count": null,
   "id": "20028c82-66e2-4368-89c1-d511ec169305",
   "metadata": {},
   "outputs": [],
   "source": [
    "yhat_proba_rf = rf.predict_proba(X_test)[:,1]\n",
    "yhat_rf = rf.predict(X_test)\n",
    "\n",
    "# Estadisticos\n",
    "score_rf = accuracy_score(y_test, yhat_rf)\n",
    "ps_rf = precision_score(y_test, yhat_rf)\n",
    "r_rf = recall_score(y_test, yhat_rf)\n",
    "f1_rf = f1_score(y_test, yhat_rf)\n",
    "\n",
    "# Confusion matrix y ROC\n",
    "conf_rf = confusion_matrix(y_test, yhat_rf, normalize=\"true\")\n",
    "report_rf = classification_report(y_test, yhat_rf)\n",
    "frf, trf, thresholds = roc_curve(y_test, yhat_proba_rf)\n",
    "\n",
    "print(report_rf)"
   ]
  },
  {
   "cell_type": "markdown",
   "id": "2f55aa53-8c45-4541-967e-6cf0b92fd91c",
   "metadata": {},
   "source": [
    "### Modelo 6. Neural Network"
   ]
  },
  {
   "cell_type": "code",
   "execution_count": null,
   "id": "6a234bc2-29ef-4f7f-8a47-93f2d9fcae3d",
   "metadata": {},
   "outputs": [],
   "source": [
    "set_seed(19)\n",
    "\n",
    "nn = Sequential(\n",
    "    [\n",
    "        Input(shape = (8,)),\n",
    "        Dense(units = 32, activation = \"sigmoid\", name = \"Layer1\"),\n",
    "        Dense(units = 16, activation = \"sigmoid\", name = \"Layer2\"),\n",
    "        Dense(units = 8, activation = \"sigmoid\", name = \"Layer3\"),\n",
    "        Dense(units = 1, activation = \"sigmoid\", name = \"Layer4\")\n",
    "    ]\n",
    ")\n",
    "\n",
    "nn.compile(\n",
    "    loss = BinaryCrossentropy(),\n",
    "    optimizer = Adam(0.001)\n",
    ")\n",
    "\n",
    "results = nn.fit(X_train, y_train, epochs = 50, verbose = False)\n",
    "\n",
    "yhat_proba_nn = nn.predict(X_test)\n",
    "yhat_nn = (yhat_proba_nn >= .5).astype(int)\n",
    "\n",
    "# Estadisticos\n",
    "score_nn = accuracy_score(y_test, yhat_nn)\n",
    "ps_nn = precision_score(y_test, yhat_nn)\n",
    "r_nn = recall_score(y_test, yhat_nn)\n",
    "f1_nn = f1_score(y_test, yhat_nn)\n",
    "\n",
    "# Confusion matrix y ROC\n",
    "conf_nn = confusion_matrix(y_test, yhat_nn, normalize=\"true\")\n",
    "report_nn = classification_report(y_test, yhat_nn)\n",
    "fnn, tnn, thresholds = roc_curve(y_test, yhat_proba_nn)\n",
    "\n",
    "print(report_nn)"
   ]
  },
  {
   "cell_type": "code",
   "execution_count": null,
   "id": "26f36c8c-5729-4e73-a5f8-a70b4e40961c",
   "metadata": {},
   "outputs": [],
   "source": [
    "plt.figure()\n",
    "\n",
    "plt.plot(results.history[\"loss\"], color=\"black\")\n",
    "\n",
    "plt.title(\"Función de pérdida para cada iteración\", fontsize = 10)\n",
    "\n",
    "plt.savefig(\"./figures/loss-function.pdf\")\n",
    "plt.show()"
   ]
  },
  {
   "attachments": {},
   "cell_type": "markdown",
   "id": "a0f71b6f",
   "metadata": {},
   "source": [
    "### Modelo 7. Support Vector Machine"
   ]
  },
  {
   "cell_type": "code",
   "execution_count": null,
   "id": "e1eb3519",
   "metadata": {},
   "outputs": [],
   "source": [
    "# Grid Search:\n",
    "svm_grid_search = SVC()\n",
    "\n",
    "param_grid = {\n",
    "    'C': [0.1, 1, 10, 100],\n",
    "    'gamma': [1, 0.1, 0.01, 0.001],\n",
    "    'kernel': ['rbf'],\n",
    "    'random_state': [19]\n",
    "}\n",
    "\n",
    "grid = GridSearchCV(\n",
    "    svm_grid_search, param_grid, cv = 10, scoring = \"accuracy\",\n",
    "    return_train_score = False, verbose = 1, n_jobs = -1\n",
    ")\n",
    "\n",
    "svm = grid.fit(X_train, y_train)"
   ]
  },
  {
   "cell_type": "code",
   "execution_count": null,
   "id": "0ad9a208",
   "metadata": {},
   "outputs": [],
   "source": [
    "print(svm.best_params_)\n",
    "print(svm.best_score_ )"
   ]
  },
  {
   "cell_type": "code",
   "execution_count": null,
   "id": "557c9683",
   "metadata": {},
   "outputs": [],
   "source": [
    "yhat_proba_svm = svm.predict_proba(X_test)[:,1]\n",
    "yhat_svm = svm.predict(X_test)\n",
    "\n",
    "# Estadisticos\n",
    "score_svm = accuracy_score(y_test, yhat_svm)\n",
    "ps_svm = precision_score(y_test, yhat_svm)\n",
    "r_svm = recall_score(y_test, yhat_svm)\n",
    "f1_svm = f1_score(y_test, yhat_svm)\n",
    "\n",
    "# Confusion matrix y ROC\n",
    "conf_svm = confusion_matrix(y_test, yhat_svm, normalize=\"true\")\n",
    "report_svm = classification_report(y_test, yhat_svm)\n",
    "fsvm, tsvm, thresholds = roc_curve(y_test, yhat_proba_svm)\n",
    "\n",
    "print(report_svm)"
   ]
  },
  {
   "attachments": {},
   "cell_type": "markdown",
   "id": "d7292898",
   "metadata": {},
   "source": [
    "### Modelo 8. XGBoost"
   ]
  },
  {
   "cell_type": "code",
   "execution_count": null,
   "id": "428ca38b",
   "metadata": {},
   "outputs": [],
   "source": [
    "xgb = XGBClassifier(use_label_encoder=False, eval_metric = \"mlogloss\", random_state = 19).fit(X_train, y_train)\n",
    "\n",
    "yhat_proba_xgb = xgb.predict_proba(X_test)[:,1]\n",
    "yhat_xgb = xgb.predict(X_test)\n",
    "\n",
    "# Estadisticos\n",
    "score_xgb = accuracy_score(y_test, yhat_xgb)\n",
    "ps_xgb = precision_score(y_test, yhat_xgb)\n",
    "r_xgb = recall_score(y_test, yhat_xgb)\n",
    "f1_xgb = f1_score(y_test, yhat_xgb)\n",
    "\n",
    "# Confusion matrix y ROC\n",
    "conf_xgb = confusion_matrix(y_test, yhat_xgb, normalize=\"true\")\n",
    "report_xgb = classification_report(y_test, yhat_xgb)\n",
    "fxgb, txgb, thresholds = roc_curve(y_test, yhat_proba_xgb)\n",
    "\n",
    "print(report_xgb)"
   ]
  },
  {
   "attachments": {},
   "cell_type": "markdown",
   "id": "e306ce8a",
   "metadata": {},
   "source": [
    "### Modelo 9. Naive Bayes"
   ]
  },
  {
   "cell_type": "code",
   "execution_count": null,
   "id": "80257750",
   "metadata": {},
   "outputs": [],
   "source": [
    "nb_grid_search = GaussianNB()\n",
    "\n",
    "param_grid = {\n",
    "    'var_smoothing': np.logspace(0,-9, num=100),\n",
    "    'random_state': [19]\n",
    "}\n",
    "\n",
    "grid = GridSearchCV(\n",
    "    nb_grid_search, param_grid, cv = 10, scoring = \"accuracy\", \n",
    "    neturn_train_score = False, verbose = 1, n_jobs = -1\n",
    ")\n",
    "\n",
    "nb = grid.fit(X_train, y_train)"
   ]
  },
  {
   "cell_type": "code",
   "execution_count": null,
   "id": "aaa12179",
   "metadata": {},
   "outputs": [],
   "source": [
    "print(nb.best_params_)\n",
    "print(nb.best_score_ )"
   ]
  },
  {
   "cell_type": "code",
   "execution_count": null,
   "id": "8919c61a",
   "metadata": {},
   "outputs": [],
   "source": [
    "yhat_proba_nb = nb.predict_proba(X_test)[:,1]\n",
    "yhat_nb = nb.predict(X_test)\n",
    "\n",
    "# Estadisticos\n",
    "score_nb = accuracy_score(y_test, yhat_nb)\n",
    "ps_nb = precision_score(y_test, yhat_nb)\n",
    "r_nb = recall_score(y_test, yhat_nb)\n",
    "f1_nb = f1_score(y_test, yhat_nb)\n",
    "\n",
    "# Confusion matrix y ROC\n",
    "conf_nb = confusion_matrix(y_test, yhat_nb, normalize=\"true\")\n",
    "report_nb = classification_report(y_test, yhat_nb)\n",
    "fnb, tnb, thresholds = roc_curve(y_test, yhat_proba_nb)\n",
    "\n",
    "print(report_nb)"
   ]
  },
  {
   "cell_type": "markdown",
   "id": "92dfd0c2-09d4-412b-b361-384f21d54d27",
   "metadata": {},
   "source": [
    "### Comparativa entre modelos"
   ]
  },
  {
   "cell_type": "code",
   "execution_count": null,
   "id": "7638e818-3071-4fb3-9d12-4e038fc7b056",
   "metadata": {},
   "outputs": [],
   "source": [
    "# 1. Indicadores de ajuste en testing\n",
    "dict_ajust = {\n",
    "    \"Regresión lineal\": score_ml,\n",
    "    \"Regresión logistica\": score_lr,\n",
    "    \"KNN\": score_knn,\n",
    "    \"Decision tree\": score_tree,\n",
    "    \"Random forest\": score_rf,\n",
    "    \"Neural networks\": score_nn,\n",
    "    \"SVM\": score_svm,\n",
    "    \"XGBoost\": score_xgb,\n",
    "    \"Naive Bayes\": score_nb\n",
    "}\n",
    "\n",
    "df_score = pd.DataFrame(dict_ajust.items(), columns=[\"Modelo\", \"Score\"]).set_index(\"Modelo\")\n",
    "df_score[\"Score\"] = np.round(df_score[\"Score\"], 3)\n",
    "df_score = df_score.sort_values(\"Score\", ascending=False)\n",
    "\n",
    "df_score"
   ]
  },
  {
   "cell_type": "code",
   "execution_count": null,
   "id": "62f1ff5d-ace9-47cc-afe6-a7f75230a7f9",
   "metadata": {},
   "outputs": [],
   "source": [
    "fig, ax = utils.render_mpl_table(df_score.reset_index(), header_columns=0, col_width=2.0)\n",
    "fig.savefig(\"./figures/score.png\")"
   ]
  },
  {
   "cell_type": "code",
   "execution_count": null,
   "id": "178eb758",
   "metadata": {},
   "outputs": [],
   "source": [
    "# 2. Precision\n",
    "dict_precision = {\n",
    "    \"Regresión lineal\": ps_ml,\n",
    "    \"Regresión logistica\": ps_lr,\n",
    "    \"KNN\": ps_knn,\n",
    "    \"Decision tree\": ps_tree,\n",
    "    \"Random forest\": ps_rf,\n",
    "    \"Neural networks\": ps_nn,\n",
    "    \"SVM\": ps_svm,\n",
    "    \"XGBoost\": ps_xgb,\n",
    "    \"Naive Bayes\": ps_nb\n",
    "}\n",
    "\n",
    "df_precision = pd.DataFrame(dict_precision.items(), columns=[\"Modelo\", \"Precision\"]).set_index(\"Modelo\")\n",
    "df_precision[\"Precision\"] = np.round(df_precision[\"Precision\"], 3)\n",
    "df_precision = df_precision.sort_values(\"Precision\", ascending=False)\n",
    "\n",
    "df_precision"
   ]
  },
  {
   "cell_type": "code",
   "execution_count": null,
   "id": "ae5fcb19",
   "metadata": {},
   "outputs": [],
   "source": [
    "# 3. Recall\n",
    "dict_recall = {\n",
    "    \"Regresión lineal\": r_ml,\n",
    "    \"Regresión logistica\": r_lr,\n",
    "    \"KNN\": r_knn,\n",
    "    \"Decision tree\": r_tree,\n",
    "    \"Random forest\": r_rf,\n",
    "    \"Neural networks\": r_nn,\n",
    "    \"SVM\": r_svm,\n",
    "    \"XGBoost\": r_xgb,\n",
    "    \"Naive Bayes\": r_nb\n",
    "}\n",
    "\n",
    "df_recall = pd.DataFrame(dict_recall.items(), columns=[\"Modelo\", \"Recall\"]).set_index(\"Modelo\")\n",
    "df_recall[\"Recall\"] = np.round(df_recall[\"Recall\"], 3)\n",
    "df_recall = df_recall.sort_values(\"Recall\", ascending=False)\n",
    "\n",
    "df_recall"
   ]
  },
  {
   "cell_type": "code",
   "execution_count": null,
   "id": "ce5fc42e",
   "metadata": {},
   "outputs": [],
   "source": [
    "# 4. F1-Score\n",
    "dict_f1 = {\n",
    "    \"Regresión lineal\": f1_ml,\n",
    "    \"Regresión logistica\": f1_lr,\n",
    "    \"KNN\": f1_knn,\n",
    "    \"Decision tree\": f1_tree,\n",
    "    \"Random forest\": f1_rf,\n",
    "    \"Neural networks\": f1_nn,\n",
    "    \"SVM\": f1_svm,\n",
    "    \"XGBoost\": f1_xgb,\n",
    "    \"Naive Bayes\": f1_nb\n",
    "}\n",
    "\n",
    "df_f1 = pd.DataFrame(dict_f1.items(), columns=[\"Modelo\", \"F1-Score\"]).set_index(\"Modelo\")\n",
    "df_f1[\"F1-Score\"] = np.round(df_f1[\"F1-Score\"], 3)\n",
    "df_f1 = df_f1.sort_values(\"F1-Score\", ascending=False)\n",
    "\n",
    "df_f1"
   ]
  },
  {
   "cell_type": "code",
   "execution_count": null,
   "id": "f82949e9-e7f6-4d70-9d96-0b798ab63355",
   "metadata": {},
   "outputs": [],
   "source": [
    "# 5. Matriz de confusion\n",
    "dict_conf = {\n",
    "    \"Regresión lineal\": conf_ml,\n",
    "    \"Regresión logistica\": conf_lr,\n",
    "    \"KNN\": conf_knn,\n",
    "    \"Decision tree\": conf_tree,\n",
    "    \"Random forest\": conf_rf,\n",
    "    \"Neural networks\": conf_nn,\n",
    "    \"SVM\": conf_svm,\n",
    "    \"XGBoost\": conf_xgb,\n",
    "    \"Naive Bayes\": conf_nb\n",
    "}\n",
    "\n",
    "conf_names = list(dict_conf.keys())\n",
    "conf_matrixes = dict_conf.values()\n",
    "\n",
    "\n",
    "# Figura\n",
    "fig, ax = plt.subplots(3, 3, figsize=(12, 12))\n",
    "\n",
    "r = 0; c = 0; i = 0\n",
    "\n",
    "for matrix in conf_matrixes:\n",
    "    fig = ConfusionMatrixDisplay(\n",
    "        confusion_matrix = matrix,\n",
    "    ).plot(ax = ax[r, c], colorbar = False, cmap=plt.cm.Blues)\n",
    "    \n",
    "    ax[r, c].set_title(conf_names[i])\n",
    "    ax[r, c].set_xlabel(\"Predicción\")\n",
    "    ax[r, c].set_ylabel(\"Real\")\n",
    "    \n",
    "    i += 1\n",
    "    r += 1\n",
    "    if r == 3:\n",
    "        c += 1\n",
    "        r = 0\n",
    "    else:\n",
    "        pass\n",
    "\n",
    "plt.suptitle(\"Matrices de confusión (normalizadas a los valores reales)\")\n",
    "plt.subplots_adjust(top=0.9, bottom=0.4, left=0.2, right=0.75, hspace=0.6, wspace=0.5)\n",
    "\n",
    "plt.savefig(\"./figures/matrices_confusion.pdf\", bbox_inches=\"tight\", transparent=True)\n",
    "plt.show()"
   ]
  },
  {
   "cell_type": "code",
   "execution_count": null,
   "id": "8a1c4714-c6f0-4289-a0f5-16df7bfa0e02",
   "metadata": {},
   "outputs": [],
   "source": [
    "# 6. ROC\n",
    "dict_conf = {\n",
    "    \"Regresión lineal\": [fml, tml],\n",
    "    \"Regresión logistica\": [flr, tlr],\n",
    "    \"KNN\": [fknn, tknn],\n",
    "    \"Decision tree\": [ftree, ttree],\n",
    "    \"Random forest\": [frf, trf],\n",
    "    \"Neural networks\": [fnn, tnn],\n",
    "    \"SVM\": [fsvm, tsvm],\n",
    "    \"XGBoost\": [fxgb, txgb],\n",
    "    \"Naive Bayes\": [fnb, tnb]\n",
    "}\n",
    "keys = list(dict_conf.keys())\n",
    "values = list(dict_conf.values())\n",
    "\n",
    "\n",
    "# Figura\n",
    "plt.figure(figsize=(6, 5))\n",
    "plt.plot([0, 1], [0, 1], \"k--\", label=\"(ROC = 0.5)\")\n",
    "\n",
    "j = 0\n",
    "for i in values:\n",
    "    plt.plot(i[0], i[1], label=keys[j])\n",
    "    j += 1\n",
    "\n",
    "plt.xlabel(\"Ratio falso positivo\")\n",
    "plt.ylabel(\"Ratio verdadero positivo\")\n",
    "plt.title(\"Curvas ROC\")\n",
    "plt.legend(fontsize=9)\n",
    "\n",
    "plt.savefig(\"./figures/roc.pdf\", bbox_inches=\"tight\", transparent=True)\n",
    "plt.savefig(\"./figures/roc.png\", bbox_inches=\"tight\", transparent=True)\n",
    "plt.show()"
   ]
  }
 ],
 "metadata": {
  "kernelspec": {
   "display_name": "Python 3 (ipykernel)",
   "language": "python",
   "name": "python3"
  },
  "language_info": {
   "codemirror_mode": {
    "name": "ipython",
    "version": 3
   },
   "file_extension": ".py",
   "mimetype": "text/x-python",
   "name": "python",
   "nbconvert_exporter": "python",
   "pygments_lexer": "ipython3",
   "version": "3.9.13"
  },
  "vscode": {
   "interpreter": {
    "hash": "a077222d77dfe082b8f1dd562ad70e458ac2ab76993a0b248ab0476e32e9e8dd"
   }
  }
 },
 "nbformat": 4,
 "nbformat_minor": 5
}
