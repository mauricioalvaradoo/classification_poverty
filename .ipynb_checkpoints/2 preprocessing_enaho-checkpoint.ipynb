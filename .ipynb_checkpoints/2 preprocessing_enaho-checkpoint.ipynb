{
 "cells": [
  {
   "cell_type": "markdown",
   "id": "50277d1a-b11d-4ac0-8873-7c47f19c06b1",
   "metadata": {},
   "source": [
    "## Preprocesando las bases de la ENAHO\n",
    "Limpiare y modificare los modulos de la ENAHO anual del 2019 con la finalidad de contar con las principales variables que se usaran para la clasificacion"
   ]
  },
  {
   "cell_type": "code",
   "execution_count": 1,
   "id": "b5cb4ffd-79a7-475e-9cd4-b449e4b5477e",
   "metadata": {},
   "outputs": [],
   "source": [
    "import pandas as pd\n",
    "import seaborn as sns\n",
    "import matplotlib.pyplot as plt\n",
    "import os"
   ]
  },
  {
   "cell_type": "markdown",
   "id": "f7f2163b-8ee3-499f-8239-7655ad04bddb",
   "metadata": {},
   "source": [
    "Se necesitara la sumaria para extraer la variable de pobreza, el modulo 2 para caracteristicas del hogar, modulo 3 para datos relacionados a la educacion y el modulo 5 para las variables de empleo e ingresos"
   ]
  },
  {
   "cell_type": "code",
   "execution_count": 2,
   "id": "92efb4fd-808e-4792-896b-2a8626645da5",
   "metadata": {},
   "outputs": [],
   "source": [
    "# Sumaria\n",
    "set1 = pd.read_stata(\"./Bases de datos/sumaria-2019.dta\",\n",
    "                     columns=[\"mes\", \"ubigeo\", \"conglome\", \"vivienda\", \"ingmo1hd\", \"pobreza\"])\n",
    "\n",
    "# Modulo 2: Características de los Miembros del Hogar\n",
    "set2 = pd.read_stata(\"./Bases de datos/enaho01-2019-200.dta\",\n",
    "                    columns=[\"mes\", \"ubigeo\", \"conglome\", \"vivienda\", \"estrato\", \"codperso\", \"p208a\", \"p207\", \"p209\"])\n",
    "\n",
    "# Modulo 3: Educacion\n",
    "set3 = pd.read_stata(\"./Bases de datos/enaho01a-2019-300.dta\",\n",
    "                    columns=[\"mes\", \"ubigeo\", \"conglome\", \"vivienda\", \"codperso\", \"p301a\", \"p301d\"])\n",
    "\n",
    "# Modulo 5: Empleo e Ingresos\n",
    "set4 = pd.read_stata(\"./Bases de datos/enaho01a-2019-500.dta\",\n",
    "                    columns=[\"mes\", \"ubigeo\", \"conglome\", \"vivienda\", \"codperso\", \"p512a\", \"p514\"])"
   ]
  },
  {
   "cell_type": "markdown",
   "id": "2f3025a7-243a-4af7-b902-3d82e79afe77",
   "metadata": {},
   "source": [
    "Finalmente, vamos a juntar las bases de datos mediante las variables de `ubigeo`, `conglome`, `vivienda`, `codperso`. Como el sumaria es a nivel de vivienda y no de persona, primero se debe unir los modulos 2, 3 y 5"
   ]
  },
  {
   "cell_type": "code",
   "execution_count": 3,
   "id": "61072631-7e46-44ad-a6d4-2182bc0997f3",
   "metadata": {},
   "outputs": [],
   "source": [
    "dta = set2.merge(set3, how='inner').merge(set4, how='inner')"
   ]
  },
  {
   "cell_type": "markdown",
   "id": "43a13844-4fbb-4992-899c-b35091536bbc",
   "metadata": {},
   "source": [
    "Finalmente, haremos el merge con la sumaria:"
   ]
  },
  {
   "cell_type": "code",
   "execution_count": 4,
   "id": "be2dd322-26f9-4690-ab1e-1d28f7d9bf0e",
   "metadata": {},
   "outputs": [],
   "source": [
    "dta = dta.merge(set1, how='inner')"
   ]
  },
  {
   "cell_type": "markdown",
   "id": "dba0d6ef-163e-4a5b-b792-a4f5462c0a9f",
   "metadata": {},
   "source": [
    "### Modificaciones a las variables"
   ]
  },
  {
   "cell_type": "code",
   "execution_count": 5,
   "id": "87ebc4b4-0a90-4c4f-9e99-fec40e7dd9da",
   "metadata": {},
   "outputs": [
    {
     "name": "stdout",
     "output_type": "stream",
     "text": [
      "['mes', 'ubigeo', 'conglome', 'vivienda', 'estrato', 'codperso', 'p208a', 'p207', 'p209', 'p301a', 'p301d', 'p512a', 'p514', 'ingmo1hd', 'pobreza']\n"
     ]
    }
   ],
   "source": [
    "columnas = list(dta.columns)\n",
    "\n",
    "print(columnas)"
   ]
  },
  {
   "cell_type": "markdown",
   "id": "46630620-773f-4ae0-a82b-5447ec660e98",
   "metadata": {},
   "source": [
    "Renombraremos las columnas"
   ]
  },
  {
   "cell_type": "code",
   "execution_count": 6,
   "id": "0f42ef01-01cc-4d70-9736-5c59fbb2afc6",
   "metadata": {},
   "outputs": [
    {
     "data": {
      "text/html": [
       "<div>\n",
       "<style scoped>\n",
       "    .dataframe tbody tr th:only-of-type {\n",
       "        vertical-align: middle;\n",
       "    }\n",
       "\n",
       "    .dataframe tbody tr th {\n",
       "        vertical-align: top;\n",
       "    }\n",
       "\n",
       "    .dataframe thead th {\n",
       "        text-align: right;\n",
       "    }\n",
       "</style>\n",
       "<table border=\"1\" class=\"dataframe\">\n",
       "  <thead>\n",
       "    <tr style=\"text-align: right;\">\n",
       "      <th></th>\n",
       "      <th>mes</th>\n",
       "      <th>ubigeo</th>\n",
       "      <th>conglome</th>\n",
       "      <th>vivienda</th>\n",
       "      <th>estrato</th>\n",
       "      <th>codperso</th>\n",
       "      <th>edad</th>\n",
       "      <th>sexo</th>\n",
       "      <th>estado_civil</th>\n",
       "      <th>nivel_educ</th>\n",
       "      <th>centro_estudios</th>\n",
       "      <th>tamano_empres</th>\n",
       "      <th>ocupacion_secund</th>\n",
       "      <th>ingbrut</th>\n",
       "      <th>pobreza</th>\n",
       "    </tr>\n",
       "  </thead>\n",
       "  <tbody>\n",
       "    <tr>\n",
       "      <th>0</th>\n",
       "      <td>01</td>\n",
       "      <td>010101</td>\n",
       "      <td>005009</td>\n",
       "      <td>041</td>\n",
       "      <td>de 20 000 a 49 999 habitantes</td>\n",
       "      <td>01</td>\n",
       "      <td>60.0</td>\n",
       "      <td>mujer</td>\n",
       "      <td>soltero(a)</td>\n",
       "      <td>sin nivel</td>\n",
       "      <td>NaN</td>\n",
       "      <td>hasta 20 personas</td>\n",
       "      <td>si</td>\n",
       "      <td>17454.0</td>\n",
       "      <td>no pobre</td>\n",
       "    </tr>\n",
       "    <tr>\n",
       "      <th>1</th>\n",
       "      <td>01</td>\n",
       "      <td>010101</td>\n",
       "      <td>005009</td>\n",
       "      <td>041</td>\n",
       "      <td>de 20 000 a 49 999 habitantes</td>\n",
       "      <td>02</td>\n",
       "      <td>28.0</td>\n",
       "      <td>mujer</td>\n",
       "      <td>soltero(a)</td>\n",
       "      <td>superior universitaria completa</td>\n",
       "      <td>estatal</td>\n",
       "      <td>hasta 20 personas</td>\n",
       "      <td>si</td>\n",
       "      <td>17454.0</td>\n",
       "      <td>no pobre</td>\n",
       "    </tr>\n",
       "    <tr>\n",
       "      <th>2</th>\n",
       "      <td>01</td>\n",
       "      <td>010101</td>\n",
       "      <td>005009</td>\n",
       "      <td>056</td>\n",
       "      <td>de 20 000 a 49 999 habitantes</td>\n",
       "      <td>01</td>\n",
       "      <td>48.0</td>\n",
       "      <td>mujer</td>\n",
       "      <td>separado(a)</td>\n",
       "      <td>secundaria incompleta</td>\n",
       "      <td>estatal</td>\n",
       "      <td>hasta 20 personas</td>\n",
       "      <td>si</td>\n",
       "      <td>24444.0</td>\n",
       "      <td>no pobre</td>\n",
       "    </tr>\n",
       "    <tr>\n",
       "      <th>3</th>\n",
       "      <td>01</td>\n",
       "      <td>010101</td>\n",
       "      <td>005009</td>\n",
       "      <td>056</td>\n",
       "      <td>de 20 000 a 49 999 habitantes</td>\n",
       "      <td>02</td>\n",
       "      <td>25.0</td>\n",
       "      <td>mujer</td>\n",
       "      <td>soltero(a)</td>\n",
       "      <td>secundaria completa</td>\n",
       "      <td>estatal</td>\n",
       "      <td>hasta 20 personas</td>\n",
       "      <td>no</td>\n",
       "      <td>24444.0</td>\n",
       "      <td>no pobre</td>\n",
       "    </tr>\n",
       "    <tr>\n",
       "      <th>4</th>\n",
       "      <td>01</td>\n",
       "      <td>010101</td>\n",
       "      <td>005009</td>\n",
       "      <td>056</td>\n",
       "      <td>de 20 000 a 49 999 habitantes</td>\n",
       "      <td>03</td>\n",
       "      <td>16.0</td>\n",
       "      <td>mujer</td>\n",
       "      <td>soltero(a)</td>\n",
       "      <td>secundaria completa</td>\n",
       "      <td>estatal</td>\n",
       "      <td>hasta 20 personas</td>\n",
       "      <td>no</td>\n",
       "      <td>24444.0</td>\n",
       "      <td>no pobre</td>\n",
       "    </tr>\n",
       "  </tbody>\n",
       "</table>\n",
       "</div>"
      ],
      "text/plain": [
       "  mes  ubigeo conglome vivienda                         estrato codperso  \\\n",
       "0  01  010101   005009      041   de 20 000 a 49 999 habitantes       01   \n",
       "1  01  010101   005009      041   de 20 000 a 49 999 habitantes       02   \n",
       "2  01  010101   005009      056   de 20 000 a 49 999 habitantes       01   \n",
       "3  01  010101   005009      056   de 20 000 a 49 999 habitantes       02   \n",
       "4  01  010101   005009      056   de 20 000 a 49 999 habitantes       03   \n",
       "\n",
       "   edad   sexo estado_civil                       nivel_educ centro_estudios  \\\n",
       "0  60.0  mujer   soltero(a)                        sin nivel             NaN   \n",
       "1  28.0  mujer   soltero(a)  superior universitaria completa         estatal   \n",
       "2  48.0  mujer  separado(a)            secundaria incompleta         estatal   \n",
       "3  25.0  mujer   soltero(a)              secundaria completa         estatal   \n",
       "4  16.0  mujer   soltero(a)              secundaria completa         estatal   \n",
       "\n",
       "       tamano_empres ocupacion_secund  ingbrut   pobreza  \n",
       "0  hasta 20 personas               si  17454.0  no pobre  \n",
       "1  hasta 20 personas               si  17454.0  no pobre  \n",
       "2  hasta 20 personas               si  24444.0  no pobre  \n",
       "3  hasta 20 personas               no  24444.0  no pobre  \n",
       "4  hasta 20 personas               no  24444.0  no pobre  "
      ]
     },
     "execution_count": 6,
     "metadata": {},
     "output_type": "execute_result"
    }
   ],
   "source": [
    "dta.rename(\n",
    "    {\"p208a\": \"edad\", \"p207\": \"sexo\", \"p209\": \"estado_civil\", \"p301a\": \"nivel_educ\", \"p301d\": \"centro_estudios\",\n",
    "     \"p512a\": \"tamano_empres\", \"p514\": \"ocupacion_secund\", \"ingmo1hd\": \"ingbrut\"}, axis=1, inplace=True)\n",
    "\n",
    "dta.head()"
   ]
  },
  {
   "cell_type": "markdown",
   "id": "a7d75292-df67-4b96-bb5e-022f091ad568",
   "metadata": {},
   "source": [
    "La variable de `estrato` puede ser modificada de tal manera que las 5 primeras categorias representen el vivir en zona urbana y de la 6ta a la 8va que sea rural"
   ]
  },
  {
   "cell_type": "code",
   "execution_count": 7,
   "id": "2054dcfc-7eb2-4b97-a772-2ab589e4c1dd",
   "metadata": {},
   "outputs": [],
   "source": [
    "categorias_urbana = list(dta[\"estrato\"].cat.categories[:5])\n",
    "\n",
    "dta[\"area\"] = \"rural\"\n",
    "dta.loc[dta[\"estrato\"].isin(categorias_urbana), \"area\"] = \"urbana\""
   ]
  },
  {
   "cell_type": "markdown",
   "id": "d66fd763-3237-47e8-b5e1-eecc4e4c334a",
   "metadata": {},
   "source": [
    "Una vez importada, podemos eliminar las variables que ya no se usaran como: `mes`, `ubigeo`, `conglome`, `vivienda`, `codperso`"
   ]
  },
  {
   "cell_type": "code",
   "execution_count": 8,
   "id": "6ab2825d-a510-45d6-9a0b-98a5bfd0f3f7",
   "metadata": {},
   "outputs": [
    {
     "data": {
      "text/html": [
       "<div>\n",
       "<style scoped>\n",
       "    .dataframe tbody tr th:only-of-type {\n",
       "        vertical-align: middle;\n",
       "    }\n",
       "\n",
       "    .dataframe tbody tr th {\n",
       "        vertical-align: top;\n",
       "    }\n",
       "\n",
       "    .dataframe thead th {\n",
       "        text-align: right;\n",
       "    }\n",
       "</style>\n",
       "<table border=\"1\" class=\"dataframe\">\n",
       "  <thead>\n",
       "    <tr style=\"text-align: right;\">\n",
       "      <th></th>\n",
       "      <th>edad</th>\n",
       "      <th>sexo</th>\n",
       "      <th>estado_civil</th>\n",
       "      <th>nivel_educ</th>\n",
       "      <th>centro_estudios</th>\n",
       "      <th>tamano_empres</th>\n",
       "      <th>ocupacion_secund</th>\n",
       "      <th>ingbrut</th>\n",
       "      <th>pobreza</th>\n",
       "      <th>area</th>\n",
       "    </tr>\n",
       "  </thead>\n",
       "  <tbody>\n",
       "    <tr>\n",
       "      <th>0</th>\n",
       "      <td>60.0</td>\n",
       "      <td>mujer</td>\n",
       "      <td>soltero(a)</td>\n",
       "      <td>sin nivel</td>\n",
       "      <td>NaN</td>\n",
       "      <td>hasta 20 personas</td>\n",
       "      <td>si</td>\n",
       "      <td>17454.0</td>\n",
       "      <td>no pobre</td>\n",
       "      <td>urbana</td>\n",
       "    </tr>\n",
       "    <tr>\n",
       "      <th>1</th>\n",
       "      <td>28.0</td>\n",
       "      <td>mujer</td>\n",
       "      <td>soltero(a)</td>\n",
       "      <td>superior universitaria completa</td>\n",
       "      <td>estatal</td>\n",
       "      <td>hasta 20 personas</td>\n",
       "      <td>si</td>\n",
       "      <td>17454.0</td>\n",
       "      <td>no pobre</td>\n",
       "      <td>urbana</td>\n",
       "    </tr>\n",
       "    <tr>\n",
       "      <th>2</th>\n",
       "      <td>48.0</td>\n",
       "      <td>mujer</td>\n",
       "      <td>separado(a)</td>\n",
       "      <td>secundaria incompleta</td>\n",
       "      <td>estatal</td>\n",
       "      <td>hasta 20 personas</td>\n",
       "      <td>si</td>\n",
       "      <td>24444.0</td>\n",
       "      <td>no pobre</td>\n",
       "      <td>urbana</td>\n",
       "    </tr>\n",
       "    <tr>\n",
       "      <th>3</th>\n",
       "      <td>25.0</td>\n",
       "      <td>mujer</td>\n",
       "      <td>soltero(a)</td>\n",
       "      <td>secundaria completa</td>\n",
       "      <td>estatal</td>\n",
       "      <td>hasta 20 personas</td>\n",
       "      <td>no</td>\n",
       "      <td>24444.0</td>\n",
       "      <td>no pobre</td>\n",
       "      <td>urbana</td>\n",
       "    </tr>\n",
       "    <tr>\n",
       "      <th>4</th>\n",
       "      <td>16.0</td>\n",
       "      <td>mujer</td>\n",
       "      <td>soltero(a)</td>\n",
       "      <td>secundaria completa</td>\n",
       "      <td>estatal</td>\n",
       "      <td>hasta 20 personas</td>\n",
       "      <td>no</td>\n",
       "      <td>24444.0</td>\n",
       "      <td>no pobre</td>\n",
       "      <td>urbana</td>\n",
       "    </tr>\n",
       "  </tbody>\n",
       "</table>\n",
       "</div>"
      ],
      "text/plain": [
       "   edad   sexo estado_civil                       nivel_educ centro_estudios  \\\n",
       "0  60.0  mujer   soltero(a)                        sin nivel             NaN   \n",
       "1  28.0  mujer   soltero(a)  superior universitaria completa         estatal   \n",
       "2  48.0  mujer  separado(a)            secundaria incompleta         estatal   \n",
       "3  25.0  mujer   soltero(a)              secundaria completa         estatal   \n",
       "4  16.0  mujer   soltero(a)              secundaria completa         estatal   \n",
       "\n",
       "       tamano_empres ocupacion_secund  ingbrut   pobreza    area  \n",
       "0  hasta 20 personas               si  17454.0  no pobre  urbana  \n",
       "1  hasta 20 personas               si  17454.0  no pobre  urbana  \n",
       "2  hasta 20 personas               si  24444.0  no pobre  urbana  \n",
       "3  hasta 20 personas               no  24444.0  no pobre  urbana  \n",
       "4  hasta 20 personas               no  24444.0  no pobre  urbana  "
      ]
     },
     "execution_count": 8,
     "metadata": {},
     "output_type": "execute_result"
    }
   ],
   "source": [
    "dta = dta.drop([\"mes\", \"ubigeo\", \"conglome\", \"vivienda\", \"estrato\", \"codperso\"], axis=1)\n",
    "dta.head()"
   ]
  },
  {
   "cell_type": "markdown",
   "id": "9e130bf0-c804-4481-ad75-41c34b837de1",
   "metadata": {},
   "source": [
    "Las variables que quedan por el momento son las siguientes:\n",
    "* **edad**: edad\n",
    "* **sexo**: dicotomica de hombre y mujer\n",
    "* **estado_civil**: estado civil del encuestado\n",
    "* **nivel_educ**: mayor nivel educativo aprobado\n",
    "* **centro_estudios**: colegio de procedencia: estatal o no estatal\n",
    "* **tamano_empres**: cantidad de trabajadores dentro de la empresa que trabaje\n",
    "* **ocupacion_secud**: dicotomica si cuenta con un segundo trabajo o no\n",
    "* **ingbrut**: ingresos monetarios brutos\n",
    "* **pobreza**: dicotomica si es pobre o no\n",
    "* **area**: categorias donde están los que viven en zona urbana o rural"
   ]
  },
  {
   "cell_type": "markdown",
   "id": "160258a5-600a-447a-940e-169bf46b9299",
   "metadata": {},
   "source": [
    "### Revisión de las variables\n",
    "\n",
    "Primero, se puede observar que los tipos de las variables son los siguientes:"
   ]
  },
  {
   "cell_type": "code",
   "execution_count": 9,
   "id": "9524bd55-a986-49c0-940d-0f11c2f6b59b",
   "metadata": {},
   "outputs": [
    {
     "name": "stdout",
     "output_type": "stream",
     "text": [
      "La cantidad de observaciones son 115159, y la cantidad de variables son: 10\n"
     ]
    }
   ],
   "source": [
    "print(f\"La cantidad de observaciones son {dta.shape[0]}, y la cantidad de variables son: {dta.shape[1]}\")"
   ]
  },
  {
   "cell_type": "code",
   "execution_count": 10,
   "id": "3660871c-9231-4c97-b9fb-1d10f1df1ce4",
   "metadata": {},
   "outputs": [
    {
     "data": {
      "text/plain": [
       "edad                 float64\n",
       "sexo                category\n",
       "estado_civil        category\n",
       "nivel_educ          category\n",
       "centro_estudios     category\n",
       "tamano_empres       category\n",
       "ocupacion_secund    category\n",
       "ingbrut              float64\n",
       "pobreza             category\n",
       "area                  object\n",
       "dtype: object"
      ]
     },
     "execution_count": 10,
     "metadata": {},
     "output_type": "execute_result"
    }
   ],
   "source": [
    "dta.dtypes"
   ]
  },
  {
   "cell_type": "code",
   "execution_count": 11,
   "id": "d373f290-bd50-487c-a676-73bcea971e7c",
   "metadata": {},
   "outputs": [
    {
     "data": {
      "text/html": [
       "<div>\n",
       "<style scoped>\n",
       "    .dataframe tbody tr th:only-of-type {\n",
       "        vertical-align: middle;\n",
       "    }\n",
       "\n",
       "    .dataframe tbody tr th {\n",
       "        vertical-align: top;\n",
       "    }\n",
       "\n",
       "    .dataframe thead th {\n",
       "        text-align: right;\n",
       "    }\n",
       "</style>\n",
       "<table border=\"1\" class=\"dataframe\">\n",
       "  <thead>\n",
       "    <tr style=\"text-align: right;\">\n",
       "      <th></th>\n",
       "      <th>edad</th>\n",
       "      <th>ingbrut</th>\n",
       "    </tr>\n",
       "  </thead>\n",
       "  <tbody>\n",
       "    <tr>\n",
       "      <th>count</th>\n",
       "      <td>115133.000000</td>\n",
       "      <td>115159.000000</td>\n",
       "    </tr>\n",
       "    <tr>\n",
       "      <th>mean</th>\n",
       "      <td>41.963607</td>\n",
       "      <td>32301.096864</td>\n",
       "    </tr>\n",
       "    <tr>\n",
       "      <th>std</th>\n",
       "      <td>19.537867</td>\n",
       "      <td>32338.833127</td>\n",
       "    </tr>\n",
       "    <tr>\n",
       "      <th>min</th>\n",
       "      <td>0.000000</td>\n",
       "      <td>0.000000</td>\n",
       "    </tr>\n",
       "    <tr>\n",
       "      <th>25%</th>\n",
       "      <td>25.000000</td>\n",
       "      <td>11460.000000</td>\n",
       "    </tr>\n",
       "    <tr>\n",
       "      <th>50%</th>\n",
       "      <td>40.000000</td>\n",
       "      <td>23338.000000</td>\n",
       "    </tr>\n",
       "    <tr>\n",
       "      <th>75%</th>\n",
       "      <td>57.000000</td>\n",
       "      <td>41802.000000</td>\n",
       "    </tr>\n",
       "    <tr>\n",
       "      <th>max</th>\n",
       "      <td>98.000000</td>\n",
       "      <td>540364.000000</td>\n",
       "    </tr>\n",
       "  </tbody>\n",
       "</table>\n",
       "</div>"
      ],
      "text/plain": [
       "                edad        ingbrut\n",
       "count  115133.000000  115159.000000\n",
       "mean       41.963607   32301.096864\n",
       "std        19.537867   32338.833127\n",
       "min         0.000000       0.000000\n",
       "25%        25.000000   11460.000000\n",
       "50%        40.000000   23338.000000\n",
       "75%        57.000000   41802.000000\n",
       "max        98.000000  540364.000000"
      ]
     },
     "execution_count": 11,
     "metadata": {},
     "output_type": "execute_result"
    }
   ],
   "source": [
    "dta.describe()"
   ]
  },
  {
   "cell_type": "markdown",
   "id": "0a39954b-bb15-4531-b76e-921c614f900d",
   "metadata": {},
   "source": [
    "Los _missing values_ (True) de las variables son las siguentes:"
   ]
  },
  {
   "cell_type": "code",
   "execution_count": 12,
   "id": "e9a083e7-ec1a-43be-9a14-c788525b01bb",
   "metadata": {},
   "outputs": [
    {
     "name": "stdout",
     "output_type": "stream",
     "text": [
      "False    115133\n",
      "True         26\n",
      "Name: edad, dtype: int64\n",
      "\n",
      "False    115133\n",
      "True         26\n",
      "Name: sexo, dtype: int64\n",
      "\n",
      "False    113898\n",
      "True       1261\n",
      "Name: estado_civil, dtype: int64\n",
      "\n",
      "False    115118\n",
      "True         41\n",
      "Name: nivel_educ, dtype: int64\n",
      "\n",
      "False    108837\n",
      "True       6322\n",
      "Name: centro_estudios, dtype: int64\n",
      "\n",
      "False    85570\n",
      "True     29589\n",
      "Name: tamano_empres, dtype: int64\n",
      "\n",
      "False    86057\n",
      "True     29102\n",
      "Name: ocupacion_secund, dtype: int64\n",
      "\n",
      "False    115159\n",
      "Name: ingbrut, dtype: int64\n",
      "\n",
      "False    115159\n",
      "Name: pobreza, dtype: int64\n",
      "\n",
      "False    115159\n",
      "Name: area, dtype: int64\n",
      "\n"
     ]
    }
   ],
   "source": [
    "missing_data = dta.isnull()\n",
    "\n",
    "for i in missing_data.columns.values.tolist():\n",
    "    print(f\"{missing_data[i].value_counts()}\\n\")"
   ]
  },
  {
   "cell_type": "markdown",
   "id": "81945304-e5d1-4e48-bc76-6049697eadaf",
   "metadata": {},
   "source": [
    "Si se elimina las observaciones que tienen _missing values_ para `tamano_empres`, `centro_estudios` y `estado_civil`, nos quedamos sin _missing values_."
   ]
  },
  {
   "cell_type": "code",
   "execution_count": 13,
   "id": "6c905598-c679-47ca-8a70-13d77bb16507",
   "metadata": {},
   "outputs": [],
   "source": [
    "dta = dta.dropna(subset=[\"tamano_empres\", \"centro_estudios\", \"estado_civil\"], axis=0)"
   ]
  },
  {
   "cell_type": "code",
   "execution_count": 14,
   "id": "a8917760-21b3-4fe6-8360-d4d4800add4c",
   "metadata": {},
   "outputs": [
    {
     "name": "stdout",
     "output_type": "stream",
     "text": [
      "False    80419\n",
      "Name: edad, dtype: int64\n",
      "\n",
      "False    80419\n",
      "Name: sexo, dtype: int64\n",
      "\n",
      "False    80419\n",
      "Name: estado_civil, dtype: int64\n",
      "\n",
      "False    80419\n",
      "Name: nivel_educ, dtype: int64\n",
      "\n",
      "False    80419\n",
      "Name: centro_estudios, dtype: int64\n",
      "\n",
      "False    80419\n",
      "Name: tamano_empres, dtype: int64\n",
      "\n",
      "False    80419\n",
      "Name: ocupacion_secund, dtype: int64\n",
      "\n",
      "False    80419\n",
      "Name: ingbrut, dtype: int64\n",
      "\n",
      "False    80419\n",
      "Name: pobreza, dtype: int64\n",
      "\n",
      "False    80419\n",
      "Name: area, dtype: int64\n",
      "\n"
     ]
    }
   ],
   "source": [
    "missing_data = dta.isnull()\n",
    "\n",
    "for i in missing_data.columns.values.tolist():\n",
    "    print(f\"{missing_data[i].value_counts()}\\n\")"
   ]
  },
  {
   "cell_type": "markdown",
   "id": "322bd05c-1991-4162-9cc7-1be369479a35",
   "metadata": {},
   "source": [
    "Ahora haré una breve exploracion de las variables categoricas:"
   ]
  },
  {
   "cell_type": "code",
   "execution_count": 15,
   "id": "de930b45-7b40-4ef2-94c9-3fcd6648b7d8",
   "metadata": {},
   "outputs": [
    {
     "data": {
      "text/plain": [
       "hombre    43214\n",
       "mujer     37205\n",
       "Name: sexo, dtype: int64"
      ]
     },
     "execution_count": 15,
     "metadata": {},
     "output_type": "execute_result"
    }
   ],
   "source": [
    "dta[\"sexo\"].value_counts()"
   ]
  },
  {
   "cell_type": "code",
   "execution_count": 16,
   "id": "c95b223f-2cfa-4dcc-b972-c6aea7520362",
   "metadata": {},
   "outputs": [
    {
     "data": {
      "text/plain": [
       "conviviente      24890\n",
       "casado(a)        22920\n",
       "soltero(a)       20674\n",
       "separado(a)       8621\n",
       "viudo(a)          2911\n",
       "divorciado(a)      403\n",
       "Name: estado_civil, dtype: int64"
      ]
     },
     "execution_count": 16,
     "metadata": {},
     "output_type": "execute_result"
    }
   ],
   "source": [
    "dta[\"estado_civil\"].value_counts()"
   ]
  },
  {
   "cell_type": "code",
   "execution_count": 17,
   "id": "1b9b97ec-e06b-42bd-b74d-e608f7322321",
   "metadata": {},
   "outputs": [
    {
     "data": {
      "text/plain": [
       "secundaria completa                     21196\n",
       "secundaria incompleta                   13658\n",
       "primaria incompleta                     11615\n",
       "primaria completa                       10423\n",
       "superior no universitaria completa       7787\n",
       "superior universitaria completa          6416\n",
       "superior universitaria incompleta        4157\n",
       "superior no universitaria incompleta     3581\n",
       "maestria/doctorado                       1450\n",
       "educación inicial                         111\n",
       "básica especial                            25\n",
       "sin nivel                                   0\n",
       "Name: nivel_educ, dtype: int64"
      ]
     },
     "execution_count": 17,
     "metadata": {},
     "output_type": "execute_result"
    }
   ],
   "source": [
    "dta[\"nivel_educ\"].value_counts()"
   ]
  },
  {
   "cell_type": "code",
   "execution_count": 18,
   "id": "488b1fc6-e848-43de-9c97-dc85934a573a",
   "metadata": {},
   "outputs": [
    {
     "data": {
      "text/plain": [
       "estatal       65868\n",
       "no estatal    14551\n",
       "Name: centro_estudios, dtype: int64"
      ]
     },
     "execution_count": 18,
     "metadata": {},
     "output_type": "execute_result"
    }
   ],
   "source": [
    "dta[\"centro_estudios\"].value_counts()"
   ]
  },
  {
   "cell_type": "code",
   "execution_count": 19,
   "id": "be057978-ed4c-4bbc-b54d-52934004e0ea",
   "metadata": {},
   "outputs": [
    {
     "data": {
      "text/plain": [
       "hasta 20 personas        63369\n",
       "más de 500 personas      10444\n",
       "de 101 a 500 personas     2785\n",
       "de 21 a 50 personas       2261\n",
       "de 51 a 100 personas      1560\n",
       "Name: tamano_empres, dtype: int64"
      ]
     },
     "execution_count": 19,
     "metadata": {},
     "output_type": "execute_result"
    }
   ],
   "source": [
    "dta[\"tamano_empres\"].value_counts()"
   ]
  },
  {
   "cell_type": "code",
   "execution_count": 20,
   "id": "d8c29704-d330-4a9b-9ba9-3fe2d61d2b1b",
   "metadata": {},
   "outputs": [
    {
     "data": {
      "text/plain": [
       "no    63919\n",
       "si    16500\n",
       "Name: ocupacion_secund, dtype: int64"
      ]
     },
     "execution_count": 20,
     "metadata": {},
     "output_type": "execute_result"
    }
   ],
   "source": [
    "dta[\"ocupacion_secund\"].value_counts()"
   ]
  },
  {
   "cell_type": "code",
   "execution_count": 21,
   "id": "81a49858-f496-4e7f-b39c-01916d3babbe",
   "metadata": {},
   "outputs": [
    {
     "data": {
      "text/plain": [
       "no pobre            67071\n",
       "pobre no extremo    11437\n",
       "pobre extremo        1911\n",
       "Name: pobreza, dtype: int64"
      ]
     },
     "execution_count": 21,
     "metadata": {},
     "output_type": "execute_result"
    }
   ],
   "source": [
    "dta[\"pobreza\"].value_counts()"
   ]
  },
  {
   "cell_type": "code",
   "execution_count": 22,
   "id": "6f49b97c-1add-4a37-a0f8-9cfc102be22b",
   "metadata": {},
   "outputs": [
    {
     "data": {
      "text/plain": [
       "urbana    54838\n",
       "rural     25581\n",
       "Name: area, dtype: int64"
      ]
     },
     "execution_count": 22,
     "metadata": {},
     "output_type": "execute_result"
    }
   ],
   "source": [
    "dta[\"area\"].value_counts()"
   ]
  },
  {
   "cell_type": "markdown",
   "id": "474097fd-201c-4298-a78b-5ef019486951",
   "metadata": {},
   "source": [
    "### Reemplazo de variables\n",
    "\n",
    "En esta nueva seccion, creare nuevas variables para el codigo de la estimacion de los modelos"
   ]
  },
  {
   "cell_type": "code",
   "execution_count": 23,
   "id": "cb1c92ac-9c34-4025-af6a-fb429fcf925f",
   "metadata": {},
   "outputs": [],
   "source": [
    "# Edad\n",
    "dta_f = dta[[\"edad\"]].copy()\n",
    "\n",
    "# Hombre\n",
    "dta_f[\"hombre\"] = pd.get_dummies(dta[\"sexo\"])[\"hombre\"].astype(\"float\")\n",
    "\n",
    "# Estado civil\n",
    "# dta_f[\"estado_civil\"] = dta[\"estado_civil\"].copy()\n",
    "\n",
    "# Estudios superiores\n",
    "estudios_superiores = [\"superior no universitaria completa\", \"superior universitaria completa\", \"maestria/doctorado\"]\n",
    "dta_f[\"est_sup\"] = 0.0\n",
    "dta_f.loc[dta[\"nivel_educ\"].isin(estudios_superiores), \"est_sup\"] = 1.0\n",
    "\n",
    "# Colegio privado\n",
    "dta_f[\"colegio_priv\"] = pd.get_dummies(dta[\"centro_estudios\"])[\"no estatal\"].astype(\"float\")\n",
    "\n",
    "# Trabajar en gran empresa\n",
    "gran_empresa = [\"de 101 a 500 personas\", \"más de 500 personas\"]\n",
    "dta_f[\"gran_empresa\"] = 0.0\n",
    "dta_f.loc[dta[\"tamano_empres\"].isin(gran_empresa), \"gran_empresa\"] = 1.0\n",
    "\n",
    "# Tener segundo trabajo\n",
    "dta_f[\"segundo_trab\"] = pd.get_dummies(dta[\"ocupacion_secund\"])[\"si\"].astype(\"float\")\n",
    "\n",
    "# Ingresos brutos\n",
    "dta_f[\"ingbrut\"] = dta[[\"ingbrut\"]].copy()/12\n",
    "\n",
    "# Vivir en zona urbana\n",
    "dta_f[\"urbano\"] = pd.get_dummies(dta[\"area\"])[\"urbana\"].astype(\"float\")\n",
    "\n",
    "# Pobreza\n",
    "pobreza = [\"pobre extremo\", \"pobre no extremo\"]\n",
    "dta_f[\"no_pobre\"] = 1.0\n",
    "dta_f.loc[dta[\"pobreza\"].isin(pobreza), \"no_pobre\"] = 0.0"
   ]
  },
  {
   "cell_type": "code",
   "execution_count": 24,
   "id": "2c56b5d5-3b08-41d1-bb1a-b498388d96e7",
   "metadata": {},
   "outputs": [
    {
     "data": {
      "text/html": [
       "<div>\n",
       "<style scoped>\n",
       "    .dataframe tbody tr th:only-of-type {\n",
       "        vertical-align: middle;\n",
       "    }\n",
       "\n",
       "    .dataframe tbody tr th {\n",
       "        vertical-align: top;\n",
       "    }\n",
       "\n",
       "    .dataframe thead th {\n",
       "        text-align: right;\n",
       "    }\n",
       "</style>\n",
       "<table border=\"1\" class=\"dataframe\">\n",
       "  <thead>\n",
       "    <tr style=\"text-align: right;\">\n",
       "      <th></th>\n",
       "      <th>edad</th>\n",
       "      <th>hombre</th>\n",
       "      <th>est_sup</th>\n",
       "      <th>colegio_priv</th>\n",
       "      <th>gran_empresa</th>\n",
       "      <th>segundo_trab</th>\n",
       "      <th>ingbrut</th>\n",
       "      <th>urbano</th>\n",
       "      <th>no_pobre</th>\n",
       "    </tr>\n",
       "  </thead>\n",
       "  <tbody>\n",
       "    <tr>\n",
       "      <th>1</th>\n",
       "      <td>28.0</td>\n",
       "      <td>0.0</td>\n",
       "      <td>1.0</td>\n",
       "      <td>0.0</td>\n",
       "      <td>0.0</td>\n",
       "      <td>1.0</td>\n",
       "      <td>1454.500000</td>\n",
       "      <td>1.0</td>\n",
       "      <td>1.0</td>\n",
       "    </tr>\n",
       "    <tr>\n",
       "      <th>2</th>\n",
       "      <td>48.0</td>\n",
       "      <td>0.0</td>\n",
       "      <td>0.0</td>\n",
       "      <td>0.0</td>\n",
       "      <td>0.0</td>\n",
       "      <td>1.0</td>\n",
       "      <td>2037.000000</td>\n",
       "      <td>1.0</td>\n",
       "      <td>1.0</td>\n",
       "    </tr>\n",
       "    <tr>\n",
       "      <th>3</th>\n",
       "      <td>25.0</td>\n",
       "      <td>0.0</td>\n",
       "      <td>0.0</td>\n",
       "      <td>0.0</td>\n",
       "      <td>0.0</td>\n",
       "      <td>0.0</td>\n",
       "      <td>2037.000000</td>\n",
       "      <td>1.0</td>\n",
       "      <td>1.0</td>\n",
       "    </tr>\n",
       "    <tr>\n",
       "      <th>4</th>\n",
       "      <td>16.0</td>\n",
       "      <td>0.0</td>\n",
       "      <td>0.0</td>\n",
       "      <td>0.0</td>\n",
       "      <td>0.0</td>\n",
       "      <td>0.0</td>\n",
       "      <td>2037.000000</td>\n",
       "      <td>1.0</td>\n",
       "      <td>1.0</td>\n",
       "    </tr>\n",
       "    <tr>\n",
       "      <th>6</th>\n",
       "      <td>41.0</td>\n",
       "      <td>0.0</td>\n",
       "      <td>0.0</td>\n",
       "      <td>0.0</td>\n",
       "      <td>0.0</td>\n",
       "      <td>1.0</td>\n",
       "      <td>1842.066732</td>\n",
       "      <td>1.0</td>\n",
       "      <td>1.0</td>\n",
       "    </tr>\n",
       "  </tbody>\n",
       "</table>\n",
       "</div>"
      ],
      "text/plain": [
       "   edad  hombre  est_sup  colegio_priv  gran_empresa  segundo_trab  \\\n",
       "1  28.0     0.0      1.0           0.0           0.0           1.0   \n",
       "2  48.0     0.0      0.0           0.0           0.0           1.0   \n",
       "3  25.0     0.0      0.0           0.0           0.0           0.0   \n",
       "4  16.0     0.0      0.0           0.0           0.0           0.0   \n",
       "6  41.0     0.0      0.0           0.0           0.0           1.0   \n",
       "\n",
       "       ingbrut  urbano  no_pobre  \n",
       "1  1454.500000     1.0       1.0  \n",
       "2  2037.000000     1.0       1.0  \n",
       "3  2037.000000     1.0       1.0  \n",
       "4  2037.000000     1.0       1.0  \n",
       "6  1842.066732     1.0       1.0  "
      ]
     },
     "execution_count": 24,
     "metadata": {},
     "output_type": "execute_result"
    }
   ],
   "source": [
    "dta_f.head()"
   ]
  },
  {
   "cell_type": "code",
   "execution_count": 25,
   "id": "1dcf34f1-a252-4957-b431-e8b20db3753c",
   "metadata": {},
   "outputs": [
    {
     "data": {
      "text/plain": [
       "1.0    67071\n",
       "0.0    13348\n",
       "Name: no_pobre, dtype: int64"
      ]
     },
     "execution_count": 25,
     "metadata": {},
     "output_type": "execute_result"
    }
   ],
   "source": [
    "dta_f[\"no_pobre\"].value_counts()"
   ]
  },
  {
   "cell_type": "markdown",
   "id": "d00423ed-32ae-4c05-97ce-fc20f533d8f8",
   "metadata": {},
   "source": [
    "### Guardado\n",
    "\n",
    "Primero se elimina todos los archivos que se encontraban en la carpeta de base de datos"
   ]
  },
  {
   "cell_type": "code",
   "execution_count": 26,
   "id": "1c2f9ebe-41f5-4d7f-ac13-fefdef78395a",
   "metadata": {},
   "outputs": [],
   "source": [
    "for file in os.listdir(\"Bases de datos\"):\n",
    "    os.remove(f\"Bases de datos//{file}\")"
   ]
  },
  {
   "cell_type": "markdown",
   "id": "53551719-63b6-47f4-a8e3-c45183832500",
   "metadata": {},
   "source": [
    "Finalmente, se guarda los datos del DataFrame `dta_f`"
   ]
  },
  {
   "cell_type": "code",
   "execution_count": 27,
   "id": "57ba7bb9-d10f-405e-9339-a068d64fe633",
   "metadata": {},
   "outputs": [],
   "source": [
    "dta_f.to_csv(\"./Bases de datos/data_f.csv\", index_label=None)"
   ]
  }
 ],
 "metadata": {
  "kernelspec": {
   "display_name": "Python 3 (ipykernel)",
   "language": "python",
   "name": "python3"
  },
  "language_info": {
   "codemirror_mode": {
    "name": "ipython",
    "version": 3
   },
   "file_extension": ".py",
   "mimetype": "text/x-python",
   "name": "python",
   "nbconvert_exporter": "python",
   "pygments_lexer": "ipython3",
   "version": "3.9.7"
  }
 },
 "nbformat": 4,
 "nbformat_minor": 5
}
